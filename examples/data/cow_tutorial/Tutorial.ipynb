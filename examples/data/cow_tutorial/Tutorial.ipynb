{
 "cells": [
  {
   "cell_type": "markdown",
   "id": "105d7cdf",
   "metadata": {},
   "source": [
    "\n",
    "<div style=\"\n",
    "    background-color: #f7f7f7;\n",
    "    background-image: url('data:image/svg+xml;base64,PD94bWwgdmVyc2lvbj0iMS4wIiBlbmNvZGluZz0iVVRGLTgiIHN0YW5kYWxvbmU9Im5vIj8+CjxzdmcKICAgd2lkdGg9IjcyIgogICBoZWlnaHQ9IjczIgogICB2aWV3Qm94PSIwIDAgNzIgNzMiCiAgIGZpbGw9Im5vbmUiCiAgIHZlcnNpb249IjEuMSIKICAgaWQ9InN2ZzEzMTkiCiAgIHhtbG5zPSJodHRwOi8vd3d3LnczLm9yZy8yMDAwL3N2ZyIKICAgeG1sbnM6c3ZnPSJodHRwOi8vd3d3LnczLm9yZy8yMDAwL3N2ZyI+CiAgPGRlZnMKICAgICBpZD0iZGVmczEzMjMiIC8+CiAgPHBhdGgKICAgICBkPSJNIC0wLjQ5OTk4NSwxNDUgQyAzOS41MzMsMTQ1IDcyLDExMi41MzIgNzIsNzIuNSA3MiwzMi40Njc4IDM5LjUzMywwIC0wLjQ5OTk4NSwwIC00MC41MzI5LDAgLTczLDMyLjQ2NzggLTczLDcyLjUgYyAwLDQwLjAzMiAzMi40NjcxLDcyLjUgNzIuNTAwMDE1LDcyLjUgeiIKICAgICBmaWxsPSIjMDA4YTY3IgogICAgIGZpbGwtb3BhY2l0eT0iMC4yNSIKICAgICBpZD0icGF0aDEzMTciIC8+Cjwvc3ZnPgo='), url('data:image/svg+xml;base64,PD94bWwgdmVyc2lvbj0iMS4wIiBlbmNvZGluZz0iVVRGLTgiIHN0YW5kYWxvbmU9Im5vIj8+CjxzdmcKICAgd2lkdGg9IjIxNyIKICAgaGVpZ2h0PSIyMjMiCiAgIHZpZXdCb3g9IjAgMCAyMTcgMjIzIgogICBmaWxsPSJub25lIgogICB2ZXJzaW9uPSIxLjEiCiAgIGlkPSJzdmcxMTA3IgogICB4bWxucz0iaHR0cDovL3d3dy53My5vcmcvMjAwMC9zdmciCiAgIHhtbG5zOnN2Zz0iaHR0cDovL3d3dy53My5vcmcvMjAwMC9zdmciPgogIDxkZWZzCiAgICAgaWQ9ImRlZnMxMTExIiAvPgogIDxwYXRoCiAgICAgZD0ibSAyMi4wNDIsNDUuMDEwOSBjIDIxLjM2MjUsMjEuMjc1NyA1NS45NzYsMjEuMjc1NyA3Ny41MTkyLDAgQyAxMTkuNTU4LDI1LjA4IDE1MS41MDIsMjMuNzM1MiAxNzIuODY0LDQxLjM3OCBjIDEuMzQ1LDEuNTI1NCAyLjY5LDMuMjUxNiA0LjIzNiw0Ljc5NzEgMjEuMzYzLDIxLjI3NTYgMjEuMzYzLDU1Ljc5ODkgMCw3Ny4yNTQ5IC0yMS4zNjIsMjEuMjc2IC0yMS4zNjIsNTUuNzk4IDAsNzcuMjU1IDIxLjM2MywyMS40NTYgNTUuOTc2LDIxLjI3NSA3Ny41MiwwIDIxLjU0MywtMjEuMjc2IDIxLjM2MiwtNTUuNzk5IDAsLTc3LjI1NSAtMjEuMzYzLC0yMS4yNzYgLTIxLjM2MywtNTUuNzk4NiAwLC03Ny4yNTQ5IDEyLjY4OSwtMTIuNjQ1IDE3Ljg4OSwtMzAuMTA3MSAxNS4zOTksLTQ2LjU4NTc2IC0xLjU0NiwtMTEuNTAwOTQgLTYuNzI2LC0yMi44MjExNCAtMTUuNTgsLTMxLjYzMjU0IC0yMS4zNjMsLTIxLjI3NTYgLTU1Ljk3NiwtMjEuMjc1NiAtNzcuNTE5LDAgLTIxLjM2MywyMS4yNzU3IC01NS45NzYsMjEuMjc1NyAtNzcuNTE5NCwwIC0yMS4zNjI1LC0yMS4yNzU2IC01NS45NzYxLC0yMS4yNzU2IC03Ny41MTkyLDAgQyAwLjY3OTU2NSwtMTAuNzg3NiAwLjY3OTU5NiwyMy43MzUyIDIyLjA0Miw0NS4wMTA5IFoiCiAgICAgZmlsbD0iIzJhNGNkZiIKICAgICBzdHJva2U9IiMyYTRjZGYiCiAgICAgc3Ryb2tlLXdpZHRoPSIxMiIKICAgICBzdHJva2UtbWl0ZXJsaW1pdD0iMTAiCiAgICAgaWQ9InBhdGgxMTA1IiAvPgogIDxwYXRoCiAgICAgZD0ibSA1MS45OTUyMTIsMjIyLjczMDEzIGMgMjguMzU5MSwwIDUxLjM1ODM5OCwtMjIuOTk5OSA1MS4zNTgzOTgsLTUxLjM1ODQgMCwtMjguMzU4NiAtMjIuOTk5Mjk4LC01MS4zNTg1OSAtNTEuMzU4Mzk4LC01MS4zNTg1OSAtMjguMzU5MSwwIC01MS4zNTg2MDIsMjIuOTk5OTkgLTUxLjM1ODYwMiw1MS4zNTg1OSAwLDI4LjM1ODUgMjIuOTk5NTAyLDUxLjM1ODQgNTEuMzU4NjAyLDUxLjM1ODQgeiIKICAgICBmaWxsPSIjMTkyZTg2IgogICAgIGZpbGwtb3BhY2l0eT0iMC4zNSIKICAgICBpZD0icGF0aDE5MzciIC8+Cjwvc3ZnPgo=') ;\n",
    "    background-position: left bottom, right top;\n",
    "    background-repeat: no-repeat,  no-repeat;\n",
    "    background-size: auto 60px, auto 160px;\n",
    "    border-radius: 5px;\n",
    "    box-shadow: 0px 3px 1px -2px rgba(0, 0, 0, 0.2), 0px 2px 2px 0px rgba(0, 0, 0, 0.14), 0px 1px 5px 0px rgba(0,0,0,.12);\">\n",
    "\n",
    "<h1 style=\"\n",
    "    color: #2a4cdf;\n",
    "    font-style: normal;\n",
    "    font-size: 2.25rem;\n",
    "    line-height: 1.4em;\n",
    "    font-weight: 600;\n",
    "    padding: 30px 200px 0px 30px;\"> \n",
    "        NOMAD as a Data Management Framework Tutorial</h1>\n",
    "\n",
    "<p style=\"\n",
    "    line-height: 1.4em;\n",
    "    padding: 30px 200px 0px 30px;\">\n",
    "        This tutorial notebook demonstrates how to use NOMAD\n",
    "        for managing custom data and file types. Based on a simple <i>Countries of the World</i>\n",
    "        dataset, it shows how to model the data in a schema, do parsing and normalization,\n",
    "        process data, access existing data with NOMAD's API for analysis, and how to\n",
    "        add visualization to your data entries.\n",
    "</p>\n",
    "\n",
    "<p style=\"font-size: 1.25em; font-style: italic; padding: 5px 200px 30px 30px;\">\n",
    "    Markus Scheidgen, José A. Márquez</p>\n",
    "</div>"
   ]
  },
  {
   "cell_type": "code",
   "execution_count": null,
   "id": "99504af2-9c6c-4747-8298-bcbf0be9f685",
   "metadata": {
    "tags": []
   },
   "outputs": [],
   "source": [
    "# This is necessary in some development environments. You can ignore this!\n",
    "from nomad.config import client\n",
    "client.url = client.url.replace('://localhost', '://host.docker.internal')\n",
    "# A utility to show structured data in cell outputs.\n",
    "from IPython.display import JSON"
   ]
  },
  {
   "cell_type": "markdown",
   "id": "1f0492bf-01cc-4bee-819d-b1153ad1c61d",
   "metadata": {
    "jupyter": {
     "outputs_hidden": true
    },
    "tags": []
   },
   "source": [
    "# Content\n",
    "\n",
    "- [Data](#Data)\n",
    "- [Schema](#Schema)\n",
    "- [Parsing](#Parsing)\n",
    "- [Normalizing](#Normalizing)\n",
    "- [Plugins](#Plugins)\n",
    "- [Processing](#Processing)\n",
    "- [Analysis](#Analysis)\n",
    "- [Visualization](#Visualization)"
   ]
  },
  {
   "cell_type": "markdown",
   "id": "2605130f-05b5-477f-8551-732561a41c40",
   "metadata": {},
   "source": [
    "## How to run this notebook\n",
    "\n",
    "Ideally you are here, because you created the example upload *NOMAD as a Data Management Framework Tutorial* and you started the `Tutorial.ipynb` notebook. *No other preparation is required.*\n",
    "\n",
    "Alternatively, you can download the [necessary files from gitlab](https://gitlab.mpcdf.mpg.de/nomad-lab/nomad-FAIR/-/tree/develop/examples/data/cow_tutorial).\n",
    "From the downloaded directory, you can run the `Tutorial.ipynb` using our Jupyterlab docker image:\n",
    "\n",
    "```\n",
    "docker run --rm -p 8888:8888 -v `pwd`:/home/jovyan/work \\\n",
    "    gitlab-registry.mpcdf.mpg.de/nomad-lab/nomad-remote-tools-hub/jupyterlab:latest\n",
    "```\n",
    "\n",
    "If you want to run this with your jupyter or any other solution, \n",
    "you need to install the `nomad-lab` pypi package and your OS also needs to have libmagic installed. \n",
    "\n",
    "```\n",
    "sudo apt-get install --yes --quiet --no-install-recommends libmagic-dev\n",
    "pip install nomad-lab\n",
    "```"
   ]
  },
  {
   "cell_type": "markdown",
   "id": "4009e853-67cc-4d9d-a173-e13186d3130e",
   "metadata": {},
   "source": [
    "<div class=\"alert alert-block alert-warning\">\n",
    "The cells is this notebook are not independent and have to be run in order.\n",
    "</div>"
   ]
  },
  {
   "cell_type": "markdown",
   "id": "d65a2c82-e930-4964-b470-58070775c533",
   "metadata": {
    "tags": []
   },
   "source": [
    "<div style=\"height: 4rem;\">&nbsp;</div>\n",
    "\n",
    "## Data\n",
    "\n",
    "Here is some example data in a proprietary text file format: [Germany.data.txt](raw_data/Germany.data.txt). The data combines two public kaggle datasets ([1](https://www.kaggle.com/datasets/fernandol/countries-of-the-world), [2](https://www.kaggle.com/datasets/kaggle/world-development-indicators)); the orignal data files and a notebook to create the `.data.txt` files can be [downloaded here](https://datashare.mpcdf.mpg.de/s/CKgf3TZ7TtxB2P1). Now image we have such a file for each country in the world."
   ]
  },
  {
   "cell_type": "raw",
   "id": "e6db14f4-d029-4b14-a890-ca3cce9d5143",
   "metadata": {},
   "source": [
    "#Country=Germany\n",
    "#Region=WESTERN EUROPE\n",
    "#Population=82422299\n",
    "#Area (sq. mi.)=357021\n",
    "#Pop. Density (per sq. mi.)=230,9\n",
    "#Coastline (coast/area ratio)=0,67\n",
    "#Net migration=2,18\n",
    "#Infant mortality (per 1000 births)=4,16\n",
    "#GDP ($ per capita)=27600\n",
    "#Literacy (%)=99,0\n",
    "#Phones (per 1000)=667,9\n",
    "#Arable (%)=33,85\n",
    "#Crops (%)=0,59\n",
    "#Other (%)=65,56\n",
    "#Climate=3\n",
    "#Birthrate=8,25\n",
    "#Deathrate=10,62\n",
    "#Agriculture=0,009\n",
    "#Industry=0,296\n",
    "#Service=0,695\n",
    "indicator\tyear\tvalue\n",
    "Adolescent fertility rate (births per 1,000 women ages 15-19)\t1960\t37.9798\n",
    "Age dependency ratio (% of working-age population)\t1960\t49.140379601754596\n",
    "Age dependency ratio, old (% of working-age population)\t1960\t17.167974839431402\n",
    "Age dependency ratio, young (% of working-age population)\t1960\t31.972404762323198\n",
    "Alternative and nuclear energy (% of total energy use)\t1960\n",
    "..."
   ]
  },
  {
   "cell_type": "markdown",
   "id": "7f7c1d94-8989-4d95-8bb7-d4903c83e4c7",
   "metadata": {},
   "source": [
    "<div style=\"height: 4rem;\">&nbsp;</div>\n",
    "\n",
    "## Schema\n",
    "\n",
    "You might also read [How to write a schema package](https://nomad-lab.eu/prod/v1/staging/docs/howto/plugins/schema_packages.html) or [Structured data](https://nomad-lab.eu/prod/v1/staging/docs/explanation/data.html) from the NOMAD documentation.\n",
    "\n",
    "With a first impression on the data, we start to design a *schema*. Schema describes a data structure that can be used to instantiate NOMAD entries. The basic building blocks for schemas are:\n",
    "\n",
    "  - *sections*: Containers for data. Instantiated from the `MSection` class.\n",
    "  - *quantities*: Concrete data values. Instantiated from the `Quantity` class.\n",
    "  - *sub-sections*: Used to nest sections within each other. Instantiated from the `SubSection` class\n",
    "  - *schemas*: Top-level sections from which NOMAD entries are created. Instantiated from the `Schema` class.\n",
    "  \n",
    "Here is an example of a schema definition as a Python class:"
   ]
  },
  {
   "cell_type": "code",
   "execution_count": null,
   "id": "ea2aedb5-d998-4b67-8d1d-21a7ba6880af",
   "metadata": {
    "tags": []
   },
   "outputs": [],
   "source": [
    "from nomad.metainfo import Quantity\n",
    "from nomad.datamodel import Schema\n",
    "import numpy as np\n",
    "\n",
    "\n",
    "class Country(Schema):\n",
    "    name = Quantity(type=str)\n",
    "    population = Quantity(type=np.int32)\n",
    "    area = Quantity(type=np.float64, unit='km^2')"
   ]
  },
  {
   "cell_type": "markdown",
   "id": "aab7f210-ed64-4693-ba8b-f9054913547a",
   "metadata": {
    "tags": []
   },
   "source": [
    "Now we can instantiate this schema with some data. In `Germany.data.txt`, we find something like this:\n",
    "\n",
    "```\n",
    "#Country=Germany\n",
    "#Region=WESTERN EUROPE\n",
    "#Population=82422299\n",
    "#Area (sq. mi.)=357021\n",
    "#Pop. Density (per sq. mi.)=230,9\n",
    "#Coastline (coast/area ratio)=0,67\n",
    "```\n",
    "\n",
    "Let's use some of this information to populate the data. Schemas and other sections can be instantiated like normal Python classes. Quantities are passed as constructor keyword arguments or by assigning values to fields."
   ]
  },
  {
   "cell_type": "code",
   "execution_count": null,
   "id": "d671ae89-314d-4128-a499-8b70b001e0c6",
   "metadata": {
    "tags": []
   },
   "outputs": [],
   "source": [
    "from nomad.units import ureg\n",
    "\n",
    "example = Country(\n",
    "    name='Germany',\n",
    "    population=82422299\n",
    ")\n",
    "example.area = area=357021 * ureg('mi^2')\n",
    "\n",
    "example.m_to_dict()"
   ]
  },
  {
   "cell_type": "markdown",
   "id": "1d55dcfb-9d04-4b0e-876b-20fc6b315916",
   "metadata": {},
   "source": [
    "Above, we put only the needed technical information. To make the definitions more useful to human users, you can also add documentation in natural language with `description` or link related resources with `links`."
   ]
  },
  {
   "cell_type": "code",
   "execution_count": null,
   "id": "70d49672-ebff-454d-afd9-adcf4552a360",
   "metadata": {
    "tags": []
   },
   "outputs": [],
   "source": [
    "from nomad.metainfo import Section\n",
    "\n",
    "\n",
    "class Country(Schema):\n",
    "    ''' This section represents a country of the world. '''\n",
    "    m_def = Section(links=[\n",
    "        'https://www.kaggle.com/datasets/fernandol/countries-of-the-world'])\n",
    "\n",
    "    name = Quantity(\n",
    "        type=str,\n",
    "        description='The country\\'s name.')\n",
    "    population = Quantity(\n",
    "        type=np.int32,\n",
    "        description='The country\\'s population.')\n",
    "    area = Quantity(\n",
    "        type=np.float64, unit='km^2',\n",
    "        description='The are of the country.')"
   ]
  },
  {
   "cell_type": "markdown",
   "id": "529a5613-0b27-4970-90be-9b290d4a46de",
   "metadata": {},
   "source": [
    "***\n",
    "Above we only used scalar quantities (single values). How can we model a time series? Let's use this to also demonstrate *sub sections*. Let's say we want to add multiple time series as sub-sections to our more general `Country` schema. \n",
    "\n",
    "We need to define a new class for a new *section* `Timeseries` and then use `Timeseries` and add `SubSection`s in our `Country` class:"
   ]
  },
  {
   "cell_type": "code",
   "execution_count": null,
   "id": "391e2b09-d081-460e-9eb6-4177d907b15d",
   "metadata": {
    "tags": []
   },
   "outputs": [],
   "source": [
    "from nomad.metainfo import MSection\n",
    "\n",
    "\n",
    "class Timeseries(MSection):\n",
    "    year = Quantity(type=np.int32, shape=['*'])\n",
    "    value = Quantity(type=np.float64, shape=['*'])"
   ]
  },
  {
   "cell_type": "code",
   "execution_count": null,
   "id": "ab723ddf-3429-43f5-a74d-d386805f9233",
   "metadata": {
    "tags": []
   },
   "outputs": [],
   "source": [
    "from nomad.metainfo import SubSection\n",
    "\n",
    "\n",
    "class Country(Schema):\n",
    "    name = Quantity(type=str)\n",
    "    population = Quantity(type=np.int32)\n",
    "    area = Quantity(type=np.float64, unit='km^2')\n",
    "\n",
    "    gdp = SubSection(\n",
    "        section=Timeseries,\n",
    "        description='GDP per capita (constant 2005 US$)'\n",
    "    )\n",
    "    birth_rate = SubSection(\n",
    "        section=Timeseries,\n",
    "        description='per 1,000 people per year'\n",
    "    )"
   ]
  },
  {
   "cell_type": "markdown",
   "id": "ce40d69a-1679-4b25-99c9-d736e4e00eb0",
   "metadata": {},
   "source": [
    "***\n",
    "In order to use such custom schemas in NOMAD, we have to bundle all the definitions in a *schema package*. Such schema packages can be distributed as NOMAD Plugins, or uploaded a `.archive.json/yaml` files. For our use case, we will convert our Python definitions into the corresponding YAML version and save it directly into the current upload:"
   ]
  },
  {
   "cell_type": "code",
   "execution_count": null,
   "id": "e3b25167-78d4-4b00-91aa-c66e26319255",
   "metadata": {
    "collapsed": true,
    "jupyter": {
     "outputs_hidden": true
    },
    "tags": []
   },
   "outputs": [],
   "source": [
    "from nomad.metainfo import SchemaPackage\n",
    "from nomad.datamodel import EntryArchive\n",
    "import yaml\n",
    "\n",
    "def create_schema_package():\n",
    "    return EntryArchive(\n",
    "        definitions=SchemaPackage(\n",
    "            name='Countries of the World',\n",
    "            sections=[\n",
    "                Country.m_def, Timeseries.m_def\n",
    "            ]\n",
    "        )\n",
    "    )\n",
    "\n",
    "def save_schema_package_to_yaml():\n",
    "    with open('schema_package.archive.yaml', 'wt') as f:\n",
    "        f.write(yaml.dump(create_schema_package().m_to_dict(with_out_meta=True), indent=2))\n",
    "\n",
    "save_schema_package_to_yaml()\n",
    "print(yaml.dump(create_schema_package().m_to_dict(with_out_meta=True), indent=2))"
   ]
  },
  {
   "cell_type": "markdown",
   "id": "080c89eb-31da-48db-b046-a107f3d835d0",
   "metadata": {},
   "source": [
    "The full schema in a Python file (as you would have it in a NOMAD plugin) would look like this: [country.py](nomad-countries/src/nomad_countries/schema_packages/country.py). And in a `.yaml` file (as you would upload it to NOMAD), will look like this: [schema_package.archive.yaml](schema_package.archive.yaml)."
   ]
  },
  {
   "cell_type": "markdown",
   "id": "ab6905e0-1808-4d08-a5a3-abd6eb8a3df5",
   "metadata": {},
   "source": [
    "<div style=\"height: 4rem;\">&nbsp;</div>\n",
    "\n",
    "## Normalizing\n",
    "\n",
    "Why then not just always write the schema in `yaml`?\n",
    "\n",
    "In Python, we can add `normalize` functions to our schema. These allow us to add additional processing steps, for example, to augment our data."
   ]
  },
  {
   "cell_type": "code",
   "execution_count": null,
   "id": "9606533a-2ab7-4bed-ad0a-0015fe6cc6ab",
   "metadata": {
    "tags": []
   },
   "outputs": [],
   "source": [
    "class Country(Schema):\n",
    "    name = Quantity(type=str)\n",
    "    population = Quantity(type=np.int32)\n",
    "    area = Quantity(type=np.float64, unit='km^2')\n",
    "    population_density = Quantity(type=np.float64, unit='1/km^2')\n",
    "\n",
    "    gdp = SubSection(\n",
    "        section=Timeseries,\n",
    "        description='GDP per capita (constant 2005 US$)'\n",
    "    )\n",
    "    birth_rate = SubSection(\n",
    "        section=Timeseries,\n",
    "        description='per 1,000 people per year'\n",
    "    )\n",
    "\n",
    "    def normalize(self, archive, logger):\n",
    "        self.population_density = self.population / self.area\n",
    "\n",
    "save_schema_package_to_yaml()"
   ]
  },
  {
   "cell_type": "code",
   "execution_count": null,
   "id": "988ad4f3-deac-4da1-b44a-bb2fd52a8785",
   "metadata": {
    "tags": []
   },
   "outputs": [],
   "source": [
    "example = Country(\n",
    "    name='Germany',\n",
    "    population=82422299,\n",
    "    area=(357021 * ureg('mi^2'))\n",
    ")\n",
    "\n",
    "example.normalize(None, None)\n",
    "example.m_to_dict()"
   ]
  },
  {
   "cell_type": "markdown",
   "id": "f21e73fe-054e-4326-9526-97b648f793a1",
   "metadata": {},
   "source": [
    "This is an extremely simple example, but `normalize` functions can be incredible powerful as they allow to incorporate custom Python code into NOMAD's data processing. This can be used for example to fit your data on the fly, to add derived quantities, or even retrieve data drom external APIs."
   ]
  },
  {
   "cell_type": "markdown",
   "id": "c9c35522-cc4f-46ee-b2a5-8eb5039e57ca",
   "metadata": {},
   "source": [
    "<div style=\"height: 4rem;\">&nbsp;</div>\n",
    "\n",
    "## Parsing\n",
    "\n",
    "You might also read [From file to data](https://nomad-lab.eu/prod/v1/staging/docs/explanation/basics.html)\n",
    "or [How to write a parser](https://nomad-lab.eu/prod/v1/staging/docs/howto/plugins/parsers.html) from the NOMAD\n",
    "documentation. \n",
    "\n",
    "We don't want to always create schema instances by hand, we want to automatize and write a parser that populates the schema with data from a file as soon as it gets detected by a NOMAD installation (for example, via drag'n dropping or uploading it via the NOMAD API).\n",
    "\n",
    "A parser *reads* the contents from a file and *writes* the data in the NOMAD format based on a schema into an *archive*. The signature for a `parse` function, i.e. within a NOMAD plugin, is this:"
   ]
  },
  {
   "cell_type": "code",
   "execution_count": null,
   "id": "a655a29e-9bde-4196-ab6f-d77ac816e04e",
   "metadata": {
    "tags": []
   },
   "outputs": [],
   "source": [
    "def parse(mainfile, archive, logger):\n",
    "    # fill the archive: EntryArchive and return\n",
    "    pass"
   ]
  },
  {
   "cell_type": "markdown",
   "id": "844bb9fd-adae-446d-9823-b87f61f1fdfb",
   "metadata": {},
   "source": [
    "We can extract the parsing part that deals with the file format in a `read` function. This would allows us to have different `read` functions for slightly different file formats, while re-using the part that populates the schema."
   ]
  },
  {
   "cell_type": "code",
   "execution_count": null,
   "id": "48a2abf0-f0a2-4a0f-bb03-50c162a9387b",
   "metadata": {
    "tags": []
   },
   "outputs": [],
   "source": [
    "import re\n",
    "\n",
    "def read(mainfile):\n",
    "    data = {}\n",
    "    with open(mainfile, 'rt') as f:\n",
    "        while True:\n",
    "            line = f.readline()\n",
    "            match = re.match(r'#([^=]+)=(.+)', line)\n",
    "            if not match:\n",
    "                break\n",
    "            key, str_value = match.group(1), match.group(2)\n",
    "            try:\n",
    "                value = float(str_value.replace(',', '.'))\n",
    "            except Exception:\n",
    "                value = str_value\n",
    "\n",
    "            data[key] = value\n",
    "    return data\n",
    "\n",
    "read('raw_data/Germany.data.txt')"
   ]
  },
  {
   "cell_type": "markdown",
   "id": "81ee46fc-0792-4850-a3a4-1d757dd96fbb",
   "metadata": {},
   "source": [
    "In the actual `parse` function call, we use the `read` function and populate the given `archive` with the data."
   ]
  },
  {
   "cell_type": "code",
   "execution_count": null,
   "id": "782ddb83-b973-4c2d-8af4-a984f278bcd5",
   "metadata": {
    "tags": []
   },
   "outputs": [],
   "source": [
    "def parse(mainfile, archive, logger):\n",
    "    data = read(mainfile)\n",
    "    archive.data = Country(\n",
    "        name=data['Country'],\n",
    "        population=data['Population'],\n",
    "        area=data['Area (sq. mi.)']\n",
    "    )"
   ]
  },
  {
   "cell_type": "markdown",
   "id": "81e1781e-0703-41c4-9d6a-e6f2fcd2bbdd",
   "metadata": {
    "tags": []
   },
   "source": [
    "To call the `parse` function, we create an empty `EntryArchive` for the `archive` argument. The real NOMAD processing will also provide a `logger` that can be used to report parsing problems."
   ]
  },
  {
   "cell_type": "code",
   "execution_count": null,
   "id": "be1c04ac-0675-43e8-9063-ab768fb27a33",
   "metadata": {
    "tags": []
   },
   "outputs": [],
   "source": [
    "from nomad.datamodel import EntryMetadata\n",
    "\n",
    "archive = EntryArchive(metadata=EntryMetadata())\n",
    "parse('raw_data/Germany.data.txt', archive, None)\n",
    "\n",
    "JSON(archive.m_to_dict())"
   ]
  },
  {
   "cell_type": "markdown",
   "id": "843ba266-bcac-4f99-afec-d3670d1ad105",
   "metadata": {
    "tags": []
   },
   "source": [
    "After parsing we can *normalize* the archive to call our `normalize` functions. There is an utility called `normalize_all` in the NOMAD Python package that allows to call the *normalization*."
   ]
  },
  {
   "cell_type": "code",
   "execution_count": null,
   "id": "a66f0c4b-2839-46b7-8b3d-1429dade1d75",
   "metadata": {
    "tags": []
   },
   "outputs": [],
   "source": [
    "from nomad.client import normalize_all\n",
    "\n",
    "normalize_all(archive)\n",
    "\n",
    "JSON(archive.m_to_dict())"
   ]
  },
  {
   "cell_type": "markdown",
   "id": "e268f999-35f4-4308-947b-d35fd4f08d94",
   "metadata": {},
   "source": [
    "<div style=\"height: 4rem;\">&nbsp;</div>\n",
    "\n",
    "## Plugins\n",
    "\n",
    "Above, we showed how to write a simple `parse` function to learn about what a parser does. To add such a custom parser to a NOMAD installation, we will need to develop a *plugin*. You can read [how to get started with plugins](https://nomad-lab.eu/prod/v1/staging/docs/howto/plugins/plugins.html) to learn more about plugin development, but we have included an example of a plugin in the `nomad-countries` folder in this upload. In this more complete example there is additional functionality to parse the csv part and populate the `gdp` and `birth_rate` sub sections. Feel free to explore the code inside the `nomad-countries` folder to learn more.\n",
    "\n",
    "We can actually install this complete plugin into this Jupyter environment by installing it with `pip`:"
   ]
  },
  {
   "cell_type": "code",
   "execution_count": null,
   "id": "74127b65",
   "metadata": {},
   "outputs": [],
   "source": [
    "pip install -e ./nomad-countries"
   ]
  },
  {
   "cell_type": "markdown",
   "id": "20b82871",
   "metadata": {},
   "source": [
    "<div class=\"alert alert-block alert-warning\">\n",
    "<b>Attention:</b> Before the next cells will work, you have to restart the Python kernel. You can do this in \"Kernel->Restart Kernel\" or by using the \"00\" hotkey.\n",
    "</div>"
   ]
  },
  {
   "cell_type": "markdown",
   "id": "f75e1bc1-a8bf-46cc-b6bb-7805d756e84e",
   "metadata": {
    "tags": []
   },
   "source": [
    "Once the package is installed and you have restarted the kernel, we can use the [parsing programming interface described in the documentation](https://nomad-lab.eu/prod/v1/staging/docs/howto/programmatic/local_parsers.html#from-a-python-program) to run the parser on files:"
   ]
  },
  {
   "cell_type": "code",
   "execution_count": null,
   "id": "0a3a43c4-ce4c-4bb2-96f3-e5fccd05afce",
   "metadata": {
    "tags": []
   },
   "outputs": [],
   "source": [
    "from nomad.client import parse, normalize_all\n",
    "from IPython.display import JSON\n",
    "\n",
    "archive = parse('raw_data/Germany.data.txt')[0]\n",
    "normalize_all(archive)\n",
    "\n",
    "JSON(archive.m_to_dict())"
   ]
  },
  {
   "cell_type": "markdown",
   "id": "fc212f77-02e2-4bb4-a5a7-936d91fca28f",
   "metadata": {},
   "source": [
    "Or we use the `nomad` shell command, i.e. the command line interface (CLI):"
   ]
  },
  {
   "cell_type": "code",
   "execution_count": null,
   "id": "16778884-eba9-4f9c-b33c-863d79d1b0e6",
   "metadata": {
    "collapsed": true,
    "jupyter": {
     "outputs_hidden": true
    },
    "tags": []
   },
   "outputs": [],
   "source": [
    "!PYTHONPATH=. nomad parse raw_data/Germany.data.txt"
   ]
  },
  {
   "cell_type": "markdown",
   "id": "d79aaff3-b850-454a-94f7-ea972169bbc2",
   "metadata": {},
   "source": [
    "<div style=\"height: 4rem;\">&nbsp;</div>\n",
    "\n",
    "## Processing\n",
    "\n",
    "You might also read [Processing](https://nomad-lab.eu/prod/v1/staging/docs/explanation/processing.html)\n",
    "from the NOMAD documentation. \n",
    "\n",
    "With a NOMAD that uses the *Countries of the World* plugin, we would simply upload `*.country.txt`, and NOMAD would process them for us by *matching* the files to our parser, doing the *parsing*, and *normalizing*. Finally NOMAD would persist the results. \n",
    "\n",
    "Without our own NOMAD, we can still emulate the process and create `*.archive.json` files. We apply the code from before to a few of the countries. \n",
    "\n",
    "There is one technicality we have to change to prepare the `.archive.json` files. NOMAD needs to know what schema we are using. Because we are using a Python schema, the exported `.json` will contain a references to a Python class (`data.m_def=nomad_countries.schema_packages.country.Country`) and we have to change it to a reference for the `.yaml` schema that we created earlier:"
   ]
  },
  {
   "cell_type": "code",
   "execution_count": null,
   "id": "17bb62c0-03d7-4511-8262-5a4e11c72d52",
   "metadata": {
    "tags": []
   },
   "outputs": [],
   "source": [
    "import json\n",
    "\n",
    "for country in ('Germany', 'Poland', 'France'):\n",
    "    # Process the country file\n",
    "    archive = parse(f'raw_data/{country}.data.txt')[0]\n",
    "    normalize_all(archive)\n",
    "    json_data = archive.m_to_dict()\n",
    "\n",
    "    # Here we replace the schema reference\n",
    "    json_data['data']['m_def'] = \\\n",
    "        '../upload/raw/schema_package.archive.yaml#/definitions/section_definitions/Country'\n",
    "\n",
    "    # Save the country as a .archive.json\n",
    "    with open(f'nomad_data/{country}.archive.json', 'wt') as f:\n",
    "        f.write(json.dumps(json_data, indent=2))"
   ]
  },
  {
   "cell_type": "markdown",
   "id": "d8f9f0be-622a-4898-a2f8-0dfd0abfbb02",
   "metadata": {
    "tags": []
   },
   "source": [
    "<div style=\"height: 4rem;\">&nbsp;</div>\n",
    "\n",
    "## Analysis\n",
    "\n",
    "You might also read [How to use the API](https://nomad-lab.eu/prod/v1/staging/docs/howto/programmatic/api.html) or [How to access processed data](https://nomad-lab.eu/prod/v1/staging/docs/howto/programmatic/archive_query.html).\n",
    "from the NOMAD documentation. \n",
    "\n",
    "<div class=\"alert alert-block alert-warning\">\n",
    "<b>Attention:</b> Before the next cells will work, you have to go back to NOMAD. On the upload page, press the reprocess button on the top-right. \n",
    "</div>"
   ]
  },
  {
   "cell_type": "markdown",
   "id": "59c22d5d-f124-4d46-ac31-bf502485c3af",
   "metadata": {},
   "source": [
    "Analysis means you need to access the processed data from NOMAD. There are two principle ways. You can use a generic HTTP library like `requests` to use our RESTful API directly, or you use our client library form the `nomad-lab` Python package."
   ]
  },
  {
   "cell_type": "markdown",
   "id": "60a7eb87-807f-4e0f-a47b-241ffb56ea2c",
   "metadata": {},
   "source": [
    "Below, we are using `requests` to perform a query and retrieve the id for our \"uploaded\" `.yaml` schema. You can learn more about our API endpoints on the [API dashboard](https://nomad-lab.eu/prod/v1/api/v1/extensions/docs). With `requests` you get the raw API responses as JSON."
   ]
  },
  {
   "cell_type": "code",
   "execution_count": null,
   "id": "3e6e4113-76c3-47a6-9569-e921c405854c",
   "metadata": {
    "tags": []
   },
   "outputs": [],
   "source": [
    "import requests\n",
    "from nomad.config import client\n",
    "from nomad.client import Auth\n",
    "\n",
    "response = requests.post(f'{client.url}/v1/entries/query', auth=Auth(), json={\n",
    "  'owner': 'user',\n",
    "  'query': {\n",
    "    'mainfile': 'schema_package.archive.yaml',\n",
    "    'upload_name': 'NOMAD as a Data Management Framework Tutorial'\n",
    "  }\n",
    "})\n",
    "schema_entry_id = response.json()['data'][0]['entry_id']"
   ]
  },
  {
   "cell_type": "markdown",
   "id": "44513346-06ed-436e-a7e2-35c204a41d99",
   "metadata": {},
   "source": [
    "Below, we use the `ArchiveQuery` utility. It allows you to `query` for entries and access the `required` parts of the processed data at the same time. With `ArchiveQuery` you retrieve Python objects that instantiate the respective schema."
   ]
  },
  {
   "cell_type": "code",
   "execution_count": null,
   "id": "74919e82-44d5-4f5c-90f0-618dad091942",
   "metadata": {
    "tags": []
   },
   "outputs": [],
   "source": [
    "from nomad.client import ArchiveQuery\n",
    "\n",
    "archive_query = ArchiveQuery(\n",
    "    query={\n",
    "       f'data.population#entry_id:{schema_entry_id}.Country#int:gt': 50e6,\n",
    "       'upload_name': 'NOMAD as a Data Management Framework Tutorial'\n",
    "    },\n",
    "    required={\n",
    "        'data': '*'\n",
    "    }\n",
    ")\n",
    "\n",
    "countries = [entry.data for entry in archive_query.download()]"
   ]
  },
  {
   "cell_type": "markdown",
   "id": "63c97c8f-05eb-493d-919f-5965f78bd0a9",
   "metadata": {},
   "source": [
    "With the data available, you can perform your analysis on top of the data. For example we can plot the data with `plotly`."
   ]
  },
  {
   "cell_type": "code",
   "execution_count": null,
   "id": "d50b35c9-73aa-4dd8-a413-215adb70cb65",
   "metadata": {
    "tags": []
   },
   "outputs": [],
   "source": [
    "import plotly.express as px\n",
    "import pandas as pd\n",
    "\n",
    "px.line(\n",
    "    pd.concat([\n",
    "        pd.DataFrame(dict(\n",
    "            year=country.gdp.year,\n",
    "            GDP=country.gdp.value,\n",
    "            name=country.name\n",
    "        ))\n",
    "        for country in countries\n",
    "    ]),\n",
    "    x='year', y=['GDP'], color='name'\n",
    ").show()\n"
   ]
  },
  {
   "cell_type": "code",
   "execution_count": null,
   "id": "58379d84-9a8a-4e36-b607-b0f20fbcee25",
   "metadata": {
    "tags": []
   },
   "outputs": [],
   "source": [
    "px.line(\n",
    "    pd.concat([\n",
    "        pd.DataFrame(dict(\n",
    "            year=country.birth_rate.year,\n",
    "            birth_rate=country.birth_rate.value,\n",
    "            name=country.name\n",
    "        ))\n",
    "        for country in countries\n",
    "    ]),\n",
    "    x='year', y='birth_rate', color='name'\n",
    ").show()"
   ]
  },
  {
   "cell_type": "markdown",
   "id": "24cec166-c261-4bb0-bcd0-554cdfd09129",
   "metadata": {},
   "source": [
    "<div style=\"height: 4rem;\">&nbsp;</div>\n",
    "\n",
    "## Adding Visualization to your NOMAD entries\n",
    "\n",
    "You might also read the reference on [Plot Annotations](https://nomad-lab.eu/prod/v1/staging/docs/reference/annotations.html#plot)\n",
    "from the NOMAD documentation. "
   ]
  },
  {
   "cell_type": "markdown",
   "id": "e61f9efa-40fd-4bc6-bd18-eeec346f0100",
   "metadata": {},
   "source": [
    "We can also put visualizations into the schema, allowing the NOMAD UI to show them. We can either add a schema *annotation* that informs the UI how to do the visualization, or we can add a Plotly figure to our data and let the UI simply show it."
   ]
  },
  {
   "cell_type": "markdown",
   "id": "a175386c-684f-4a35-b2ca-475976a47e3c",
   "metadata": {},
   "source": [
    "### Plot annotation"
   ]
  },
  {
   "cell_type": "markdown",
   "id": "0428059f-2ece-4ba9-81b5-220109d4c26b",
   "metadata": {},
   "source": [
    "Schema annotation can be added to Python schemas and `.yaml` schemas as well. They do not require any Python code to run and also work for uploaded schemas and do not require a plugin. The plot annotations require that your section inherits from `PlotSection`. This is how the annotation looks in a `.yaml` schema:\n",
    "\n",
    "```yaml\n",
    "\n",
    "definitions:\n",
    "  name: Countries of the World\n",
    "  section_definitions:\n",
    "  - base_sections:\n",
    "    - nomad.datamodel.metainfo.plot.PlotSection\n",
    "    - nomad.datamodel.data.EntryData\n",
    "    m_annotations:\n",
    "      plotly_graph_object:\n",
    "      - data:\n",
    "          x: '#birth_rate/year'\n",
    "          y: '#birth_rate/value'\n",
    "        layout:\n",
    "          yaxis:\n",
    "            title: birth rate (per 1,000 people)\n",
    "    name: Country\n",
    "    quantities:\n",
    "       ...\n",
    "```\n",
    "\n",
    "You can also add annotation in Python schemas:"
   ]
  },
  {
   "cell_type": "code",
   "execution_count": null,
   "id": "5bee98dd-240b-4b69-9e97-5994d294a26e",
   "metadata": {
    "tags": []
   },
   "outputs": [],
   "source": [
    "import numpy as np\n",
    "from nomad.metainfo import Section, Quantity, SubSection, MSection\n",
    "from nomad.datamodel.data import Schema\n",
    "from nomad.datamodel.metainfo.plot import PlotSection\n",
    "\n",
    "\n",
    "class Timeseries(MSection):\n",
    "    year = Quantity(type=np.int32, shape=['*'])\n",
    "    value = Quantity(type=np.float64, shape=['*'])\n",
    "\n",
    "\n",
    "class Country(PlotSection, Schema):\n",
    "    m_def=Section(a_plotly_graph_object={\n",
    "        'data': {\n",
    "            'x': '#birth_rate/year',\n",
    "            'y': '#birth_rate/value'\n",
    "        },\n",
    "        'layout': {\n",
    "            'yaxis': {\n",
    "                'title': 'birth rate (per 1,000 people)'\n",
    "            }\n",
    "        }\n",
    "    })\n",
    "\n",
    "    name = Quantity(type=str)\n",
    "    population = Quantity(type=np.int32)\n",
    "    area = Quantity(type=np.float64, unit='km^2')\n",
    "    population_density = Quantity(type=np.float64, unit='1/km^2')\n",
    "\n",
    "    gdp = SubSection(\n",
    "        section=Timeseries,\n",
    "        description='GDP per capita (constant 2005 US$)'\n",
    "    )\n",
    "    birth_rate = SubSection(\n",
    "        section=Timeseries,\n",
    "        description='per 1,000 people per year'\n",
    "    )\n",
    "\n",
    "    def normalize(self, archive, logger):\n",
    "        self.population_density = self.population / self.area"
   ]
  },
  {
   "cell_type": "markdown",
   "id": "202f67c4-a844-425a-909e-71f774ab541f",
   "metadata": {},
   "source": [
    "The annotation is based on Plotly [graph objects](https://plotly.com/python/graph-objects/). The `layout` is passed directly to Plotly, the `data` allows to reference quantities in the data. Let's save this new version:"
   ]
  },
  {
   "cell_type": "code",
   "execution_count": null,
   "id": "cbc4d7a4",
   "metadata": {},
   "outputs": [],
   "source": [
    "from nomad.metainfo import SchemaPackage\n",
    "from nomad.datamodel import EntryArchive\n",
    "import yaml\n",
    "\n",
    "def create_schema_package():\n",
    "    return EntryArchive(\n",
    "        definitions=SchemaPackage(\n",
    "            name='Countries of the World',\n",
    "            sections=[Country.m_def, Timeseries.m_def]\n",
    "        )\n",
    "    )\n",
    "\n",
    "def save_schema_package_to_yaml():\n",
    "    with open('schema_package.archive.yaml', 'wt') as f:\n",
    "        f.write(yaml.dump(create_schema_package().m_to_dict(with_out_meta=True), indent=2))\n",
    "\n",
    "save_schema_package_to_yaml()"
   ]
  },
  {
   "cell_type": "markdown",
   "id": "bc664c3a-8397-4b40-85af-a4e653c27d55",
   "metadata": {},
   "source": [
    "You can go back to NOMAD and reprocess the upload. Look at one of the Country entries to see the plot."
   ]
  },
  {
   "cell_type": "markdown",
   "id": "1a9253eb-185b-4c25-b5a8-09c4f7c3aad1",
   "metadata": {},
   "source": [
    "### Creating custom plots programmatically"
   ]
  },
  {
   "cell_type": "markdown",
   "id": "efb8f602-e746-40ef-8d07-41d09f7aa8dd",
   "metadata": {},
   "source": [
    "You can also create Plotly plots during the processing as part of a `normalize` function. This gives you the full functionality of plotly and you simply store the results via Plotly's `to_plotly_json` function. We are using the base class `PlotSection` that provides a `figures` property to store figures."
   ]
  },
  {
   "cell_type": "code",
   "execution_count": null,
   "id": "b05e9b93-ab4c-4d4b-bc34-bbf9f79d88e4",
   "metadata": {
    "tags": []
   },
   "outputs": [],
   "source": [
    "from nomad.datamodel.metainfo.plot import PlotSection, PlotlyFigure\n",
    "\n",
    "\n",
    "class Country(PlotSection, Schema):\n",
    "    name = Quantity(type=str)\n",
    "    population = Quantity(type=np.int32)\n",
    "    area = Quantity(type=np.float64, unit='km^2')\n",
    "    population_density = Quantity(type=np.float64, unit='1/km^2')\n",
    "\n",
    "    gdp = SubSection(\n",
    "        section=Timeseries,\n",
    "        description='GDP per capita (constant 2005 US$)'\n",
    "    )\n",
    "    birth_rate = SubSection(\n",
    "        section=Timeseries,\n",
    "        description='per 1,000 people per year'\n",
    "    )\n",
    "\n",
    "    def normalize(self, archive, logger):\n",
    "        super(Country, self).normalize(archive, logger)\n",
    "        self.population_density = self.population / self.area\n",
    "\n",
    "        self.figures.append(PlotlyFigure(\n",
    "            figure=px.line(\n",
    "                pd.DataFrame(dict(year=self.gdp.year, GDP=self.gdp.value)),\n",
    "                x='year', y=['GDP']\n",
    "            ).to_plotly_json()\n",
    "        ))\n",
    "\n",
    "save_schema_package_to_yaml()"
   ]
  },
  {
   "cell_type": "markdown",
   "id": "ed674b51-6f86-4c1c-affe-137805f7f78c",
   "metadata": {},
   "source": [
    "You can go back to NOMAD and reprocess the upload. Look at one of the Country entries to see the plot."
   ]
  },
  {
   "cell_type": "markdown",
   "id": "826f807e-cf57-4ad8-98ae-d2f2435e6ec0",
   "metadata": {},
   "source": [
    "<div style=\"height: 4rem;\">&nbsp;</div>\n",
    "\n",
    "You reached the end of this notebook. Here are some useful links:\n",
    "\n",
    "- [nomad-lab.eu](https://nomad-lab.eu)\n",
    "- [NOMAD Documentation](https://nomad-lab.eu/docs)\n",
    "- [Our user forums](https://matsci.org/c/nomad/32)"
   ]
  }
 ],
 "metadata": {
  "kernelspec": {
   "display_name": "Python 3 (ipykernel)",
   "language": "python",
   "name": "python3"
  },
  "language_info": {
   "codemirror_mode": {
    "name": "ipython",
    "version": 3
   },
   "file_extension": ".py",
   "mimetype": "text/x-python",
   "name": "python",
   "nbconvert_exporter": "python",
   "pygments_lexer": "ipython3",
   "version": "3.10.10"
  }
 },
 "nbformat": 4,
 "nbformat_minor": 5
}
