{
 "cells": [
  {
   "cell_type": "code",
   "execution_count": 2,
   "metadata": {},
   "outputs": [
    {
     "data": {
      "text/html": [
       "<div>\n",
       "<style scoped>\n",
       "    .dataframe tbody tr th:only-of-type {\n",
       "        vertical-align: middle;\n",
       "    }\n",
       "\n",
       "    .dataframe tbody tr th {\n",
       "        vertical-align: top;\n",
       "    }\n",
       "\n",
       "    .dataframe thead th {\n",
       "        text-align: right;\n",
       "    }\n",
       "</style>\n",
       "<table border=\"1\" class=\"dataframe\">\n",
       "  <thead>\n",
       "    <tr style=\"text-align: right;\">\n",
       "      <th></th>\n",
       "      <th>entry_id</th>\n",
       "      <th>results.properties.optoelectronic.solar_cell.efficiency</th>\n",
       "      <th>data.perovskite.composition_long_form</th>\n",
       "      <th>data.perovskite_deposition.solvents</th>\n",
       "      <th>data.perovskite_deposition.solvents_mixing_ratios</th>\n",
       "      <th>data.perovskite_deposition.thermal_annealing_temperature</th>\n",
       "      <th>data.perovskite_deposition.thermal_annealing_time</th>\n",
       "    </tr>\n",
       "  </thead>\n",
       "  <tbody>\n",
       "    <tr>\n",
       "      <th>0</th>\n",
       "      <td>1_ZlrsTE0OtRMlrhY6gytmbZWEuV</td>\n",
       "      <td>20.28</td>\n",
       "      <td>FA0.85MA0.15PbBr0.45I2.55</td>\n",
       "      <td>DMF; DMSO</td>\n",
       "      <td>4; 1</td>\n",
       "      <td>400.0</td>\n",
       "      <td>0.066</td>\n",
       "    </tr>\n",
       "    <tr>\n",
       "      <th>1</th>\n",
       "      <td>26F7YEQoHRvd9Eedi8eHTecO7y87</td>\n",
       "      <td>17.59</td>\n",
       "      <td>FA0.85MA0.15PbBr0.45I2.55</td>\n",
       "      <td>DMF; DMSO</td>\n",
       "      <td>4; 1</td>\n",
       "      <td>400.0</td>\n",
       "      <td>0.066</td>\n",
       "    </tr>\n",
       "    <tr>\n",
       "      <th>2</th>\n",
       "      <td>2EF7w9auZaesTiyundRJ5-IYyH2-</td>\n",
       "      <td>17.75</td>\n",
       "      <td>FA0.85MA0.15PbBr0.45I2.55</td>\n",
       "      <td>DMF; DMSO</td>\n",
       "      <td>4; 1</td>\n",
       "      <td>400.0</td>\n",
       "      <td>0.066</td>\n",
       "    </tr>\n",
       "    <tr>\n",
       "      <th>3</th>\n",
       "      <td>2Tq4Qh9w-bygW272RCrs12kQGrJt</td>\n",
       "      <td>16.99</td>\n",
       "      <td>FA0.85MA0.15PbBr0.45I2.55</td>\n",
       "      <td>DMF; DMSO</td>\n",
       "      <td>4; 1</td>\n",
       "      <td>100.0</td>\n",
       "      <td>30.0</td>\n",
       "    </tr>\n",
       "    <tr>\n",
       "      <th>4</th>\n",
       "      <td>2bt-wZjYB3NIwxFA5_O91C1wHJDG</td>\n",
       "      <td>17.12</td>\n",
       "      <td>FA0.85MA0.15PbBr0.45I2.55</td>\n",
       "      <td>DMF; DMSO</td>\n",
       "      <td>4; 1</td>\n",
       "      <td>100.0</td>\n",
       "      <td>30.0</td>\n",
       "    </tr>\n",
       "    <tr>\n",
       "      <th>...</th>\n",
       "      <td>...</td>\n",
       "      <td>...</td>\n",
       "      <td>...</td>\n",
       "      <td>...</td>\n",
       "      <td>...</td>\n",
       "      <td>...</td>\n",
       "      <td>...</td>\n",
       "    </tr>\n",
       "    <tr>\n",
       "      <th>117</th>\n",
       "      <td>xGyFj670QxjIaX9de_9ObezUj7xQ</td>\n",
       "      <td>17.75</td>\n",
       "      <td>FA0.85MA0.15PbBr0.45I2.55</td>\n",
       "      <td>DMF; DMSO</td>\n",
       "      <td>4; 1</td>\n",
       "      <td>400.0</td>\n",
       "      <td>0.066</td>\n",
       "    </tr>\n",
       "    <tr>\n",
       "      <th>118</th>\n",
       "      <td>xTrjgupHt0Pq2O-_d5TzltZA1eGL</td>\n",
       "      <td>20.75</td>\n",
       "      <td>FA0.85MA0.15PbBr0.45I2.55</td>\n",
       "      <td>DMF; DMSO</td>\n",
       "      <td>4; 1</td>\n",
       "      <td>400.0</td>\n",
       "      <td>0.066</td>\n",
       "    </tr>\n",
       "    <tr>\n",
       "      <th>119</th>\n",
       "      <td>ynBFOpCz-GwQlddhu6S2wam3DcCQ</td>\n",
       "      <td>20.08</td>\n",
       "      <td>FA0.85MA0.15PbBr0.45I2.55</td>\n",
       "      <td>DMF; DMSO</td>\n",
       "      <td>4; 1</td>\n",
       "      <td>400.0</td>\n",
       "      <td>0.066</td>\n",
       "    </tr>\n",
       "    <tr>\n",
       "      <th>120</th>\n",
       "      <td>zNFh-4by95asH6bOYWJb1tbkIGzE</td>\n",
       "      <td>19.15</td>\n",
       "      <td>FA0.85MA0.15PbBr0.45I2.55</td>\n",
       "      <td>DMF; DMSO</td>\n",
       "      <td>4; 1</td>\n",
       "      <td>300.0</td>\n",
       "      <td>0.133</td>\n",
       "    </tr>\n",
       "    <tr>\n",
       "      <th>121</th>\n",
       "      <td>ziqfKD0n8aOenqe-jEe2cPE5T0nU</td>\n",
       "      <td>18.86</td>\n",
       "      <td>FA0.85MA0.15PbBr0.45I2.55</td>\n",
       "      <td>DMF; DMSO</td>\n",
       "      <td>4; 1</td>\n",
       "      <td>200.0</td>\n",
       "      <td>1.0</td>\n",
       "    </tr>\n",
       "  </tbody>\n",
       "</table>\n",
       "<p>122 rows × 7 columns</p>\n",
       "</div>"
      ],
      "text/plain": [
       "                         entry_id  \\\n",
       "0    1_ZlrsTE0OtRMlrhY6gytmbZWEuV   \n",
       "1    26F7YEQoHRvd9Eedi8eHTecO7y87   \n",
       "2    2EF7w9auZaesTiyundRJ5-IYyH2-   \n",
       "3    2Tq4Qh9w-bygW272RCrs12kQGrJt   \n",
       "4    2bt-wZjYB3NIwxFA5_O91C1wHJDG   \n",
       "..                            ...   \n",
       "117  xGyFj670QxjIaX9de_9ObezUj7xQ   \n",
       "118  xTrjgupHt0Pq2O-_d5TzltZA1eGL   \n",
       "119  ynBFOpCz-GwQlddhu6S2wam3DcCQ   \n",
       "120  zNFh-4by95asH6bOYWJb1tbkIGzE   \n",
       "121  ziqfKD0n8aOenqe-jEe2cPE5T0nU   \n",
       "\n",
       "     results.properties.optoelectronic.solar_cell.efficiency  \\\n",
       "0                                                20.28         \n",
       "1                                                17.59         \n",
       "2                                                17.75         \n",
       "3                                                16.99         \n",
       "4                                                17.12         \n",
       "..                                                 ...         \n",
       "117                                              17.75         \n",
       "118                                              20.75         \n",
       "119                                              20.08         \n",
       "120                                              19.15         \n",
       "121                                              18.86         \n",
       "\n",
       "    data.perovskite.composition_long_form data.perovskite_deposition.solvents  \\\n",
       "0               FA0.85MA0.15PbBr0.45I2.55                           DMF; DMSO   \n",
       "1               FA0.85MA0.15PbBr0.45I2.55                           DMF; DMSO   \n",
       "2               FA0.85MA0.15PbBr0.45I2.55                           DMF; DMSO   \n",
       "3               FA0.85MA0.15PbBr0.45I2.55                           DMF; DMSO   \n",
       "4               FA0.85MA0.15PbBr0.45I2.55                           DMF; DMSO   \n",
       "..                                    ...                                 ...   \n",
       "117             FA0.85MA0.15PbBr0.45I2.55                           DMF; DMSO   \n",
       "118             FA0.85MA0.15PbBr0.45I2.55                           DMF; DMSO   \n",
       "119             FA0.85MA0.15PbBr0.45I2.55                           DMF; DMSO   \n",
       "120             FA0.85MA0.15PbBr0.45I2.55                           DMF; DMSO   \n",
       "121             FA0.85MA0.15PbBr0.45I2.55                           DMF; DMSO   \n",
       "\n",
       "    data.perovskite_deposition.solvents_mixing_ratios  \\\n",
       "0                                                4; 1   \n",
       "1                                                4; 1   \n",
       "2                                                4; 1   \n",
       "3                                                4; 1   \n",
       "4                                                4; 1   \n",
       "..                                                ...   \n",
       "117                                              4; 1   \n",
       "118                                              4; 1   \n",
       "119                                              4; 1   \n",
       "120                                              4; 1   \n",
       "121                                              4; 1   \n",
       "\n",
       "    data.perovskite_deposition.thermal_annealing_temperature  \\\n",
       "0                                                400.0         \n",
       "1                                                400.0         \n",
       "2                                                400.0         \n",
       "3                                                100.0         \n",
       "4                                                100.0         \n",
       "..                                                 ...         \n",
       "117                                              400.0         \n",
       "118                                              400.0         \n",
       "119                                              400.0         \n",
       "120                                              300.0         \n",
       "121                                              200.0         \n",
       "\n",
       "    data.perovskite_deposition.thermal_annealing_time  \n",
       "0                                               0.066  \n",
       "1                                               0.066  \n",
       "2                                               0.066  \n",
       "3                                                30.0  \n",
       "4                                                30.0  \n",
       "..                                                ...  \n",
       "117                                             0.066  \n",
       "118                                             0.066  \n",
       "119                                             0.066  \n",
       "120                                             0.133  \n",
       "121                                               1.0  \n",
       "\n",
       "[122 rows x 7 columns]"
      ]
     },
     "execution_count": 2,
     "metadata": {},
     "output_type": "execute_result"
    }
   ],
   "source": [
    "import requests\n",
    "from types import SimpleNamespace\n",
    "import pandas as pd\n",
    "\n",
    "base_url = 'https://nomad-lab.eu/prod/v1/api/v1'\n",
    "json_body = {\n",
    "  \"owner\": \"visible\",\n",
    "  \"query\": {\n",
    "    \"and\": [\n",
    "      {\n",
    "        \"data.ref.DOI_number#perovskite_solar_cell_database.schema.PerovskiteSolarCell:any\": [\n",
    "          \"10.1021/acsnano.7b02015\"\n",
    "        ]\n",
    "      },\n",
    "      {\n",
    "        \"section_defs.definition_qualified_name:all\": [\n",
    "          \"perovskite_solar_cell_database.schema.PerovskiteSolarCell\"\n",
    "        ]\n",
    "      }\n",
    "    ]\n",
    "  },\n",
    "  'pagination': {\n",
    "        'page_size': 20\n",
    "  },\n",
    "  \"required\": {\n",
    "    \"include\": [\n",
    "      \"data.perovskite_deposition.thermal_annealing_temperature#perovskite_solar_cell_database.schema.PerovskiteSolarCell\",\n",
    "      \"data.perovskite_deposition.thermal_annealing_time#perovskite_solar_cell_database.schema.PerovskiteSolarCell\",\n",
    "      \"data.perovskite_deposition.solvents#perovskite_solar_cell_database.schema.PerovskiteSolarCell\",\n",
    "      \"data.perovskite_deposition.solvents_mixing_ratios#perovskite_solar_cell_database.schema.PerovskiteSolarCell\",\n",
    "      \"data.perovskite.composition_long_form#perovskite_solar_cell_database.schema.PerovskiteSolarCell\",\n",
    "      \"results.properties.optoelectronic.solar_cell.efficiency\",\n",
    "      \"data.perovskite_deposition.thermal_annealing_temperature#perovskite_solar_cell_database.schema.PerovskiteSolarCell\"\n",
    "    ]\n",
    "  }\n",
    "}\n",
    "\n",
    "dfs = []\n",
    "\n",
    "while True:\n",
    "    response = requests.post(f'{base_url}/entries/query', json=json_body)\n",
    "    response_json = response.json()\n",
    "\n",
    "    # print(response_json)\n",
    "\n",
    "    dfs.append(pd.json_normalize(response_json['data']))\n",
    "\n",
    "    next_value = response_json['pagination'].get('next_page_after_value')\n",
    "    if not next_value:\n",
    "        break\n",
    "\n",
    "    json_body['pagination']['page_after_value'] = next_value\n",
    "\n",
    "df = pd.concat(dfs, ignore_index=True)\n",
    "\n",
    "df\n",
    "# formulas = set()\n",
    "\n",
    "# while len(formulas) < 100:\n",
    "#     response = requests.post(f'{base_url}/entries/query', json=json_body)\n",
    "#     response_json = response.json()\n",
    "\n",
    "#     for data in response_json['data']:\n",
    "#         formulas.add(data['results']['material']['chemical_formula_hill'])\n",
    "\n",
    "#     next_value = response_json['pagination'].get('next_page_after_value')\n",
    "#     if not next_value:\n",
    "#         break\n",
    "#     json_body['pagination']['page_after_value'] = next_value\n",
    "\n",
    "# print(formulas)"
   ]
  },
  {
   "cell_type": "code",
   "execution_count": 5,
   "metadata": {},
   "outputs": [
    {
     "data": {
      "text/html": [
       "<div>\n",
       "<style scoped>\n",
       "    .dataframe tbody tr th:only-of-type {\n",
       "        vertical-align: middle;\n",
       "    }\n",
       "\n",
       "    .dataframe tbody tr th {\n",
       "        vertical-align: top;\n",
       "    }\n",
       "\n",
       "    .dataframe thead th {\n",
       "        text-align: right;\n",
       "    }\n",
       "</style>\n",
       "<table border=\"1\" class=\"dataframe\">\n",
       "  <thead>\n",
       "    <tr style=\"text-align: right;\">\n",
       "      <th></th>\n",
       "      <th>entry_id</th>\n",
       "      <th>results.properties.optoelectronic.solar_cell.efficiency</th>\n",
       "      <th>data.perovskite.composition_long_form</th>\n",
       "      <th>data.perovskite_deposition.solvents</th>\n",
       "      <th>data.perovskite_deposition.solvents_mixing_ratios</th>\n",
       "      <th>data.perovskite_deposition.thermal_annealing_temperature</th>\n",
       "      <th>data.perovskite_deposition.thermal_annealing_time</th>\n",
       "    </tr>\n",
       "  </thead>\n",
       "  <tbody>\n",
       "    <tr>\n",
       "      <th>0</th>\n",
       "      <td>1_ZlrsTE0OtRMlrhY6gytmbZWEuV</td>\n",
       "      <td>20.28</td>\n",
       "      <td>FA0.85MA0.15PbBr0.45I2.55</td>\n",
       "      <td>DMF; DMSO</td>\n",
       "      <td>4; 1</td>\n",
       "      <td>400.0</td>\n",
       "      <td>0.066</td>\n",
       "    </tr>\n",
       "    <tr>\n",
       "      <th>1</th>\n",
       "      <td>26F7YEQoHRvd9Eedi8eHTecO7y87</td>\n",
       "      <td>17.59</td>\n",
       "      <td>FA0.85MA0.15PbBr0.45I2.55</td>\n",
       "      <td>DMF; DMSO</td>\n",
       "      <td>4; 1</td>\n",
       "      <td>400.0</td>\n",
       "      <td>0.066</td>\n",
       "    </tr>\n",
       "    <tr>\n",
       "      <th>2</th>\n",
       "      <td>2EF7w9auZaesTiyundRJ5-IYyH2-</td>\n",
       "      <td>17.75</td>\n",
       "      <td>FA0.85MA0.15PbBr0.45I2.55</td>\n",
       "      <td>DMF; DMSO</td>\n",
       "      <td>4; 1</td>\n",
       "      <td>400.0</td>\n",
       "      <td>0.066</td>\n",
       "    </tr>\n",
       "    <tr>\n",
       "      <th>3</th>\n",
       "      <td>2Tq4Qh9w-bygW272RCrs12kQGrJt</td>\n",
       "      <td>16.99</td>\n",
       "      <td>FA0.85MA0.15PbBr0.45I2.55</td>\n",
       "      <td>DMF; DMSO</td>\n",
       "      <td>4; 1</td>\n",
       "      <td>100.0</td>\n",
       "      <td>30.000</td>\n",
       "    </tr>\n",
       "    <tr>\n",
       "      <th>4</th>\n",
       "      <td>2bt-wZjYB3NIwxFA5_O91C1wHJDG</td>\n",
       "      <td>17.12</td>\n",
       "      <td>FA0.85MA0.15PbBr0.45I2.55</td>\n",
       "      <td>DMF; DMSO</td>\n",
       "      <td>4; 1</td>\n",
       "      <td>100.0</td>\n",
       "      <td>30.000</td>\n",
       "    </tr>\n",
       "  </tbody>\n",
       "</table>\n",
       "</div>"
      ],
      "text/plain": [
       "                       entry_id  \\\n",
       "0  1_ZlrsTE0OtRMlrhY6gytmbZWEuV   \n",
       "1  26F7YEQoHRvd9Eedi8eHTecO7y87   \n",
       "2  2EF7w9auZaesTiyundRJ5-IYyH2-   \n",
       "3  2Tq4Qh9w-bygW272RCrs12kQGrJt   \n",
       "4  2bt-wZjYB3NIwxFA5_O91C1wHJDG   \n",
       "\n",
       "   results.properties.optoelectronic.solar_cell.efficiency  \\\n",
       "0                                              20.28         \n",
       "1                                              17.59         \n",
       "2                                              17.75         \n",
       "3                                              16.99         \n",
       "4                                              17.12         \n",
       "\n",
       "  data.perovskite.composition_long_form data.perovskite_deposition.solvents  \\\n",
       "0             FA0.85MA0.15PbBr0.45I2.55                           DMF; DMSO   \n",
       "1             FA0.85MA0.15PbBr0.45I2.55                           DMF; DMSO   \n",
       "2             FA0.85MA0.15PbBr0.45I2.55                           DMF; DMSO   \n",
       "3             FA0.85MA0.15PbBr0.45I2.55                           DMF; DMSO   \n",
       "4             FA0.85MA0.15PbBr0.45I2.55                           DMF; DMSO   \n",
       "\n",
       "  data.perovskite_deposition.solvents_mixing_ratios  \\\n",
       "0                                              4; 1   \n",
       "1                                              4; 1   \n",
       "2                                              4; 1   \n",
       "3                                              4; 1   \n",
       "4                                              4; 1   \n",
       "\n",
       "   data.perovskite_deposition.thermal_annealing_temperature  \\\n",
       "0                                              400.0          \n",
       "1                                              400.0          \n",
       "2                                              400.0          \n",
       "3                                              100.0          \n",
       "4                                              100.0          \n",
       "\n",
       "   data.perovskite_deposition.thermal_annealing_time  \n",
       "0                                              0.066  \n",
       "1                                              0.066  \n",
       "2                                              0.066  \n",
       "3                                             30.000  \n",
       "4                                             30.000  "
      ]
     },
     "execution_count": 5,
     "metadata": {},
     "output_type": "execute_result"
    }
   ],
   "source": [
    "# Clean up the dataframe using assign() for better readability\n",
    "df_clean = (df.copy()\n",
    "  .assign(\n",
    "    # Convert annealing temperature to numeric\n",
    "    **{'data.perovskite_deposition.thermal_annealing_temperature': \n",
    "      lambda x: pd.to_numeric(x['data.perovskite_deposition.thermal_annealing_temperature'], errors='coerce')},\n",
    "    \n",
    "    # Convert annealing time to numeric\n",
    "    **{'data.perovskite_deposition.thermal_annealing_time':\n",
    "      lambda x: pd.to_numeric(x['data.perovskite_deposition.thermal_annealing_time'], errors='coerce')},\n",
    "    \n",
    "    # Convert efficiency to numeric\n",
    "    **{'results.properties.optoelectronic.solar_cell.efficiency':\n",
    "      lambda x: pd.to_numeric(x['results.properties.optoelectronic.solar_cell.efficiency'], errors='coerce')}\n",
    "  )\n",
    ")\n",
    "\n",
    "# Drop rows with missing values in important columns\n",
    "df_clean = df_clean.dropna(subset=[\n",
    "  'data.perovskite_deposition.thermal_annealing_temperature',\n",
    "  'data.perovskite_deposition.thermal_annealing_time',\n",
    "  'results.properties.optoelectronic.solar_cell.efficiency'\n",
    "]).reset_index(drop=True)\n",
    "\n",
    "# Display the cleaned dataframe\n",
    "df_clean.head()\n"
   ]
  },
  {
   "cell_type": "code",
   "execution_count": 4,
   "metadata": {},
   "outputs": [
    {
     "data": {
      "application/vnd.plotly.v1+json": {
       "config": {
        "plotlyServerURL": "https://plot.ly"
       },
       "data": [
        {
         "hoverinfo": "text",
         "marker": {
          "color": {
           "bdata": "SOF6FK5HNEDXo3A9CpcxQAAAAAAAwDFAPQrXo3D9MEAfhetRuB4xQAAAAAAAgDJAmpmZmZmZMUCF61G4HgUpQMP1KFyPwipAKVyPwvVoMUB7FK5H4fonQPYoXI/C9TBAKVyPwvUoMUCkcD0K1yM0QFK4HoXrUTJAUrgehetRMkBmZmZmZiYzQAAAAAAAQDNAPQrXo3A9M0ApXI/C9SgpQD0K16NwPStA7FG4HoVrMUDsUbgehSsxQFK4HoXrUTJA9ihcj8K1M0A9CtejcH0zQOxRuB6FKzRAj8L1KFzPMEAfhetRuF40QK5H4XoULjRAzczMzMwMMkDNzMzMzIw0QJqZmZmZ2TBACtejcD3KMEDsUbgehWszQM3MzMzMTCpAAAAAAACAMUCamZmZmZkxQM3MzMzMDDJAH4XrUbjeMkC4HoXrUTgzQM3MzMzMTDFAFK5H4XpUM0CF61G4HkU0QHsUrkfhejJAhetRuB5FMkCkcD0K16MoQArXo3A9CjNAj8L1KFzPMEC4HoXrUbgwQHE9CtejsDNAH4XrUbgeK0CkcD0K16MrQOF6FK5HITNAH4XrUbheMUCkcD0K1yMzQLgehetRuDBAw/UoXI+CM0AzMzMzM3M0QIXrUbgehTNArkfhehRuM0BxPQrXo7AxQClcj8L1qCZA9ihcj8L1MkAfhetRuB4yQKRwPQrXoypA9ihcj8J1KUApXI/C9agnQBSuR+F6lDFAzczMzMyMMEBmZmZmZuYwQHsUrkfh+jBA16NwPQoXMUAUrkfhelQxQI/C9ShcDyhAH4XrUbheNEAzMzMzM/MxQKRwPQrXYzFAzczMzMwMM0CPwvUoXI8kQPYoXI/C9TFAFK5H4XpUM0AzMzMzM/MxQI/C9ShcDytAMzMzMzOzL0BxPQrXo/AqQMP1KFyPwiZAXI/C9SjcMkC4HoXrUXgxQD0K16NwvSpAH4XrUbgeMkDNzMzMzMwzQNejcD0KFzRApHA9CtfjM0Bcj8L1KFw0QD0K16NwPTNApHA9CtcjMkDhehSuRyEyQOF6FK5HoTBAcT0K16PwKUA9CtejcP0zQOF6FK5HITNAj8L1KFyPNECkcD0K1yMyQClcj8L1aDJAw/UoXI9CMkD2KFyPwnUwQFK4HoXrUSlAw/UoXI+CM0AUrkfhelQxQDMzMzMz8zBArkfhehQuNECuR+F6FK4xQI/C9ShcTzNAAAAAAADAMUAAAAAAAMA0QBSuR+F6FDRAZmZmZmYmM0Bcj8L1KNwyQA==",
           "dtype": "f8"
          },
          "colorbar": {
           "title": {
            "text": "Efficiency (%)"
           }
          },
          "colorscale": [
           [
            0,
            "#440154"
           ],
           [
            0.1111111111111111,
            "#482878"
           ],
           [
            0.2222222222222222,
            "#3e4989"
           ],
           [
            0.3333333333333333,
            "#31688e"
           ],
           [
            0.4444444444444444,
            "#26828e"
           ],
           [
            0.5555555555555556,
            "#1f9e89"
           ],
           [
            0.6666666666666666,
            "#35b779"
           ],
           [
            0.7777777777777778,
            "#6ece58"
           ],
           [
            0.8888888888888888,
            "#b5de2b"
           ],
           [
            1,
            "#fde725"
           ]
          ],
          "opacity": 0.8,
          "size": 5
         },
         "mode": "markers",
         "text": [
          "<b>Composition:</b> FA<sub>0.85</sub>MA<sub>0.15</sub>PbBr<sub>0.45</sub>I<sub>2.55</sub><br><b>Efficiency:</b> 20.28%<br><b>Annealing Temp:</b> 400.0°C<br><b>Annealing Time:</b> 0.066 hr<br><b>Solvents:</b> DMF; DMSO<br><b>Solvent Ratios:</b> 4; 1",
          "<b>Composition:</b> FA<sub>0.85</sub>MA<sub>0.15</sub>PbBr<sub>0.45</sub>I<sub>2.55</sub><br><b>Efficiency:</b> 17.59%<br><b>Annealing Temp:</b> 400.0°C<br><b>Annealing Time:</b> 0.066 hr<br><b>Solvents:</b> DMF; DMSO<br><b>Solvent Ratios:</b> 4; 1",
          "<b>Composition:</b> FA<sub>0.85</sub>MA<sub>0.15</sub>PbBr<sub>0.45</sub>I<sub>2.55</sub><br><b>Efficiency:</b> 17.75%<br><b>Annealing Temp:</b> 400.0°C<br><b>Annealing Time:</b> 0.066 hr<br><b>Solvents:</b> DMF; DMSO<br><b>Solvent Ratios:</b> 4; 1",
          "<b>Composition:</b> FA<sub>0.85</sub>MA<sub>0.15</sub>PbBr<sub>0.45</sub>I<sub>2.55</sub><br><b>Efficiency:</b> 16.99%<br><b>Annealing Temp:</b> 100.0°C<br><b>Annealing Time:</b> 30.0 hr<br><b>Solvents:</b> DMF; DMSO<br><b>Solvent Ratios:</b> 4; 1",
          "<b>Composition:</b> FA<sub>0.85</sub>MA<sub>0.15</sub>PbBr<sub>0.45</sub>I<sub>2.55</sub><br><b>Efficiency:</b> 17.12%<br><b>Annealing Temp:</b> 100.0°C<br><b>Annealing Time:</b> 30.0 hr<br><b>Solvents:</b> DMF; DMSO<br><b>Solvent Ratios:</b> 4; 1",
          "<b>Composition:</b> FA<sub>0.85</sub>MA<sub>0.15</sub>PbBr<sub>0.45</sub>I<sub>2.55</sub><br><b>Efficiency:</b> 18.50%<br><b>Annealing Temp:</b> 200.0°C<br><b>Annealing Time:</b> 1.0 hr<br><b>Solvents:</b> DMF; DMSO<br><b>Solvent Ratios:</b> 4; 1",
          "<b>Composition:</b> FA<sub>0.85</sub>MA<sub>0.15</sub>PbBr<sub>0.45</sub>I<sub>2.55</sub><br><b>Efficiency:</b> 17.60%<br><b>Annealing Temp:</b> 200.0°C<br><b>Annealing Time:</b> 1.0 hr<br><b>Solvents:</b> DMF; DMSO<br><b>Solvent Ratios:</b> 4; 1",
          "<b>Composition:</b> FA<sub>0.85</sub>MA<sub>0.15</sub>PbBr<sub>0.45</sub>I<sub>2.55</sub><br><b>Efficiency:</b> 12.51%<br><b>Annealing Temp:</b> 100.0°C<br><b>Annealing Time:</b> 30.0 hr<br><b>Solvents:</b> DMF; DMSO<br><b>Solvent Ratios:</b> 4; 1",
          "<b>Composition:</b> FA<sub>0.85</sub>MA<sub>0.15</sub>PbBr<sub>0.45</sub>I<sub>2.55</sub><br><b>Efficiency:</b> 13.38%<br><b>Annealing Temp:</b> 100.0°C<br><b>Annealing Time:</b> 30.0 hr<br><b>Solvents:</b> DMF; DMSO<br><b>Solvent Ratios:</b> 4; 1",
          "<b>Composition:</b> FA<sub>0.85</sub>MA<sub>0.15</sub>PbBr<sub>0.45</sub>I<sub>2.55</sub><br><b>Efficiency:</b> 17.41%<br><b>Annealing Temp:</b> 100.0°C<br><b>Annealing Time:</b> 30.0 hr<br><b>Solvents:</b> DMF; DMSO<br><b>Solvent Ratios:</b> 4; 1",
          "<b>Composition:</b> FA<sub>0.85</sub>MA<sub>0.15</sub>PbBr<sub>0.45</sub>I<sub>2.55</sub><br><b>Efficiency:</b> 11.99%<br><b>Annealing Temp:</b> 100.0°C<br><b>Annealing Time:</b> 30.0 hr<br><b>Solvents:</b> DMF; DMSO<br><b>Solvent Ratios:</b> 4; 1",
          "<b>Composition:</b> FA<sub>0.85</sub>MA<sub>0.15</sub>PbBr<sub>0.45</sub>I<sub>2.55</sub><br><b>Efficiency:</b> 16.96%<br><b>Annealing Temp:</b> 100.0°C<br><b>Annealing Time:</b> 30.0 hr<br><b>Solvents:</b> DMF; DMSO<br><b>Solvent Ratios:</b> 4; 1",
          "<b>Composition:</b> FA<sub>0.85</sub>MA<sub>0.15</sub>PbBr<sub>0.45</sub>I<sub>2.55</sub><br><b>Efficiency:</b> 17.16%<br><b>Annealing Temp:</b> 100.0°C<br><b>Annealing Time:</b> 30.0 hr<br><b>Solvents:</b> DMF; DMSO<br><b>Solvent Ratios:</b> 4; 1",
          "<b>Composition:</b> FA<sub>0.85</sub>MA<sub>0.15</sub>PbBr<sub>0.45</sub>I<sub>2.55</sub><br><b>Efficiency:</b> 20.14%<br><b>Annealing Temp:</b> 400.0°C<br><b>Annealing Time:</b> 0.066 hr<br><b>Solvents:</b> DMF; DMSO<br><b>Solvent Ratios:</b> 4; 1",
          "<b>Composition:</b> FA<sub>0.85</sub>MA<sub>0.15</sub>PbBr<sub>0.45</sub>I<sub>2.55</sub><br><b>Efficiency:</b> 18.32%<br><b>Annealing Temp:</b> 400.0°C<br><b>Annealing Time:</b> 0.066 hr<br><b>Solvents:</b> DMF; DMSO<br><b>Solvent Ratios:</b> 4; 1",
          "<b>Composition:</b> FA<sub>0.85</sub>MA<sub>0.15</sub>PbBr<sub>0.45</sub>I<sub>2.55</sub><br><b>Efficiency:</b> 18.32%<br><b>Annealing Temp:</b> 200.0°C<br><b>Annealing Time:</b> 1.0 hr<br><b>Solvents:</b> DMF; DMSO<br><b>Solvent Ratios:</b> 4; 1",
          "<b>Composition:</b> FA<sub>0.85</sub>MA<sub>0.15</sub>PbBr<sub>0.45</sub>I<sub>2.55</sub><br><b>Efficiency:</b> 19.15%<br><b>Annealing Temp:</b> 300.0°C<br><b>Annealing Time:</b> 0.133 hr<br><b>Solvents:</b> DMF; DMSO<br><b>Solvent Ratios:</b> 4; 1",
          "<b>Composition:</b> FA<sub>0.85</sub>MA<sub>0.15</sub>PbBr<sub>0.45</sub>I<sub>2.55</sub><br><b>Efficiency:</b> 19.25%<br><b>Annealing Temp:</b> 300.0°C<br><b>Annealing Time:</b> 0.133 hr<br><b>Solvents:</b> DMF; DMSO<br><b>Solvent Ratios:</b> 4; 1",
          "<b>Composition:</b> FA<sub>0.85</sub>MA<sub>0.15</sub>PbBr<sub>0.45</sub>I<sub>2.55</sub><br><b>Efficiency:</b> 19.24%<br><b>Annealing Temp:</b> 300.0°C<br><b>Annealing Time:</b> 0.133 hr<br><b>Solvents:</b> DMF; DMSO<br><b>Solvent Ratios:</b> 4; 1",
          "<b>Composition:</b> FA<sub>0.85</sub>MA<sub>0.15</sub>PbBr<sub>0.45</sub>I<sub>2.55</sub><br><b>Efficiency:</b> 12.58%<br><b>Annealing Temp:</b> 100.0°C<br><b>Annealing Time:</b> 30.0 hr<br><b>Solvents:</b> DMF; DMSO<br><b>Solvent Ratios:</b> 4; 1",
          "<b>Composition:</b> FA<sub>0.85</sub>MA<sub>0.15</sub>PbBr<sub>0.45</sub>I<sub>2.55</sub><br><b>Efficiency:</b> 13.62%<br><b>Annealing Temp:</b> 100.0°C<br><b>Annealing Time:</b> 30.0 hr<br><b>Solvents:</b> DMF; DMSO<br><b>Solvent Ratios:</b> 4; 1",
          "<b>Composition:</b> FA<sub>0.85</sub>MA<sub>0.15</sub>PbBr<sub>0.45</sub>I<sub>2.55</sub><br><b>Efficiency:</b> 17.42%<br><b>Annealing Temp:</b> 100.0°C<br><b>Annealing Time:</b> 30.0 hr<br><b>Solvents:</b> DMF; DMSO<br><b>Solvent Ratios:</b> 4; 1",
          "<b>Composition:</b> FA<sub>0.85</sub>MA<sub>0.15</sub>PbBr<sub>0.45</sub>I<sub>2.55</sub><br><b>Efficiency:</b> 17.17%<br><b>Annealing Temp:</b> 400.0°C<br><b>Annealing Time:</b> 0.066 hr<br><b>Solvents:</b> DMF; DMSO<br><b>Solvent Ratios:</b> 4; 1",
          "<b>Composition:</b> FA<sub>0.85</sub>MA<sub>0.15</sub>PbBr<sub>0.45</sub>I<sub>2.55</sub><br><b>Efficiency:</b> 18.32%<br><b>Annealing Temp:</b> 200.0°C<br><b>Annealing Time:</b> 1.0 hr<br><b>Solvents:</b> DMF; DMSO<br><b>Solvent Ratios:</b> 4; 1",
          "<b>Composition:</b> FA<sub>0.85</sub>MA<sub>0.15</sub>PbBr<sub>0.45</sub>I<sub>2.55</sub><br><b>Efficiency:</b> 19.71%<br><b>Annealing Temp:</b> 300.0°C<br><b>Annealing Time:</b> 0.133 hr<br><b>Solvents:</b> DMF; DMSO<br><b>Solvent Ratios:</b> 4; 1",
          "<b>Composition:</b> FA<sub>0.85</sub>MA<sub>0.15</sub>PbBr<sub>0.45</sub>I<sub>2.55</sub><br><b>Efficiency:</b> 19.49%<br><b>Annealing Temp:</b> 400.0°C<br><b>Annealing Time:</b> 0.066 hr<br><b>Solvents:</b> DMF; DMSO<br><b>Solvent Ratios:</b> 4; 1",
          "<b>Composition:</b> FA<sub>0.85</sub>MA<sub>0.15</sub>PbBr<sub>0.45</sub>I<sub>2.55</sub><br><b>Efficiency:</b> 20.17%<br><b>Annealing Temp:</b> 400.0°C<br><b>Annealing Time:</b> 0.066 hr<br><b>Solvents:</b> DMF; DMSO<br><b>Solvent Ratios:</b> 4; 1",
          "<b>Composition:</b> FA<sub>0.85</sub>MA<sub>0.15</sub>PbBr<sub>0.45</sub>I<sub>2.55</sub><br><b>Efficiency:</b> 16.81%<br><b>Annealing Temp:</b> 100.0°C<br><b>Annealing Time:</b> 30.0 hr<br><b>Solvents:</b> DMF; DMSO<br><b>Solvent Ratios:</b> 4; 1",
          "<b>Composition:</b> FA<sub>0.85</sub>MA<sub>0.15</sub>PbBr<sub>0.45</sub>I<sub>2.55</sub><br><b>Efficiency:</b> 20.37%<br><b>Annealing Temp:</b> 400.0°C<br><b>Annealing Time:</b> 0.066 hr<br><b>Solvents:</b> DMF; DMSO<br><b>Solvent Ratios:</b> 4; 1",
          "<b>Composition:</b> FA<sub>0.85</sub>MA<sub>0.15</sub>PbBr<sub>0.45</sub>I<sub>2.55</sub><br><b>Efficiency:</b> 20.18%<br><b>Annealing Temp:</b> 400.0°C<br><b>Annealing Time:</b> 0.066 hr<br><b>Solvents:</b> DMF; DMSO<br><b>Solvent Ratios:</b> 4; 1",
          "<b>Composition:</b> FA<sub>0.85</sub>MA<sub>0.15</sub>PbBr<sub>0.45</sub>I<sub>2.55</sub><br><b>Efficiency:</b> 18.05%<br><b>Annealing Temp:</b> 400.0°C<br><b>Annealing Time:</b> 0.066 hr<br><b>Solvents:</b> DMF; DMSO<br><b>Solvent Ratios:</b> 4; 1",
          "<b>Composition:</b> FA<sub>0.85</sub>MA<sub>0.15</sub>PbBr<sub>0.45</sub>I<sub>2.55</sub><br><b>Efficiency:</b> 20.55%<br><b>Annealing Temp:</b> 400.0°C<br><b>Annealing Time:</b> 0.066 hr<br><b>Solvents:</b> DMF; DMSO<br><b>Solvent Ratios:</b> 4; 1",
          "<b>Composition:</b> FA<sub>0.85</sub>MA<sub>0.15</sub>PbBr<sub>0.45</sub>I<sub>2.55</sub><br><b>Efficiency:</b> 16.85%<br><b>Annealing Temp:</b> 100.0°C<br><b>Annealing Time:</b> 30.0 hr<br><b>Solvents:</b> DMF; DMSO<br><b>Solvent Ratios:</b> 4; 1",
          "<b>Composition:</b> FA<sub>0.85</sub>MA<sub>0.15</sub>PbBr<sub>0.45</sub>I<sub>2.55</sub><br><b>Efficiency:</b> 16.79%<br><b>Annealing Temp:</b> 400.0°C<br><b>Annealing Time:</b> 0.066 hr<br><b>Solvents:</b> DMF; DMSO<br><b>Solvent Ratios:</b> 4; 1",
          "<b>Composition:</b> FA<sub>0.85</sub>MA<sub>0.15</sub>PbBr<sub>0.45</sub>I<sub>2.55</sub><br><b>Efficiency:</b> 19.42%<br><b>Annealing Temp:</b> 300.0°C<br><b>Annealing Time:</b> 0.133 hr<br><b>Solvents:</b> DMF; DMSO<br><b>Solvent Ratios:</b> 4; 1",
          "<b>Composition:</b> FA<sub>0.85</sub>MA<sub>0.15</sub>PbBr<sub>0.45</sub>I<sub>2.55</sub><br><b>Efficiency:</b> 13.15%<br><b>Annealing Temp:</b> 100.0°C<br><b>Annealing Time:</b> 30.0 hr<br><b>Solvents:</b> DMF; DMSO<br><b>Solvent Ratios:</b> 4; 1",
          "<b>Composition:</b> FA<sub>0.85</sub>MA<sub>0.15</sub>PbBr<sub>0.45</sub>I<sub>2.55</sub><br><b>Efficiency:</b> 17.50%<br><b>Annealing Temp:</b> 400.0°C<br><b>Annealing Time:</b> 0.066 hr<br><b>Solvents:</b> DMF; DMSO<br><b>Solvent Ratios:</b> 4; 1",
          "<b>Composition:</b> FA<sub>0.85</sub>MA<sub>0.15</sub>PbBr<sub>0.45</sub>I<sub>2.55</sub><br><b>Efficiency:</b> 17.60%<br><b>Annealing Temp:</b> 100.0°C<br><b>Annealing Time:</b> 30.0 hr<br><b>Solvents:</b> DMF; DMSO<br><b>Solvent Ratios:</b> 4; 1",
          "<b>Composition:</b> FA<sub>0.85</sub>MA<sub>0.15</sub>PbBr<sub>0.45</sub>I<sub>2.55</sub><br><b>Efficiency:</b> 18.05%<br><b>Annealing Temp:</b> 400.0°C<br><b>Annealing Time:</b> 0.066 hr<br><b>Solvents:</b> DMF; DMSO<br><b>Solvent Ratios:</b> 4; 1",
          "<b>Composition:</b> FA<sub>0.85</sub>MA<sub>0.15</sub>PbBr<sub>0.45</sub>I<sub>2.55</sub><br><b>Efficiency:</b> 18.87%<br><b>Annealing Temp:</b> 200.0°C<br><b>Annealing Time:</b> 1.0 hr<br><b>Solvents:</b> DMF; DMSO<br><b>Solvent Ratios:</b> 4; 1",
          "<b>Composition:</b> FA<sub>0.85</sub>MA<sub>0.15</sub>PbBr<sub>0.45</sub>I<sub>2.55</sub><br><b>Efficiency:</b> 19.22%<br><b>Annealing Temp:</b> 300.0°C<br><b>Annealing Time:</b> 0.133 hr<br><b>Solvents:</b> DMF; DMSO<br><b>Solvent Ratios:</b> 4; 1",
          "<b>Composition:</b> FA<sub>0.85</sub>MA<sub>0.15</sub>PbBr<sub>0.45</sub>I<sub>2.55</sub><br><b>Efficiency:</b> 17.30%<br><b>Annealing Temp:</b> 100.0°C<br><b>Annealing Time:</b> 30.0 hr<br><b>Solvents:</b> DMF; DMSO<br><b>Solvent Ratios:</b> 4; 1",
          "<b>Composition:</b> FA<sub>0.85</sub>MA<sub>0.15</sub>PbBr<sub>0.45</sub>I<sub>2.55</sub><br><b>Efficiency:</b> 19.33%<br><b>Annealing Temp:</b> 300.0°C<br><b>Annealing Time:</b> 0.133 hr<br><b>Solvents:</b> DMF; DMSO<br><b>Solvent Ratios:</b> 4; 1",
          "<b>Composition:</b> FA<sub>0.85</sub>MA<sub>0.15</sub>PbBr<sub>0.45</sub>I<sub>2.55</sub><br><b>Efficiency:</b> 20.27%<br><b>Annealing Temp:</b> 400.0°C<br><b>Annealing Time:</b> 0.066 hr<br><b>Solvents:</b> DMF; DMSO<br><b>Solvent Ratios:</b> 4; 1",
          "<b>Composition:</b> FA<sub>0.85</sub>MA<sub>0.15</sub>PbBr<sub>0.45</sub>I<sub>2.55</sub><br><b>Efficiency:</b> 18.48%<br><b>Annealing Temp:</b> 200.0°C<br><b>Annealing Time:</b> 1.0 hr<br><b>Solvents:</b> DMF; DMSO<br><b>Solvent Ratios:</b> 4; 1",
          "<b>Composition:</b> FA<sub>0.85</sub>MA<sub>0.15</sub>PbBr<sub>0.45</sub>I<sub>2.55</sub><br><b>Efficiency:</b> 18.27%<br><b>Annealing Temp:</b> 200.0°C<br><b>Annealing Time:</b> 1.0 hr<br><b>Solvents:</b> DMF; DMSO<br><b>Solvent Ratios:</b> 4; 1",
          "<b>Composition:</b> FA<sub>0.85</sub>MA<sub>0.15</sub>PbBr<sub>0.45</sub>I<sub>2.55</sub><br><b>Efficiency:</b> 12.32%<br><b>Annealing Temp:</b> 100.0°C<br><b>Annealing Time:</b> 30.0 hr<br><b>Solvents:</b> DMF; DMSO<br><b>Solvent Ratios:</b> 4; 1",
          "<b>Composition:</b> FA<sub>0.85</sub>MA<sub>0.15</sub>PbBr<sub>0.45</sub>I<sub>2.55</sub><br><b>Efficiency:</b> 19.04%<br><b>Annealing Temp:</b> 300.0°C<br><b>Annealing Time:</b> 0.133 hr<br><b>Solvents:</b> DMF; DMSO<br><b>Solvent Ratios:</b> 4; 1",
          "<b>Composition:</b> FA<sub>0.85</sub>MA<sub>0.15</sub>PbBr<sub>0.45</sub>I<sub>2.55</sub><br><b>Efficiency:</b> 16.81%<br><b>Annealing Temp:</b> 100.0°C<br><b>Annealing Time:</b> 30.0 hr<br><b>Solvents:</b> DMF; DMSO<br><b>Solvent Ratios:</b> 4; 1",
          "<b>Composition:</b> FA<sub>0.85</sub>MA<sub>0.15</sub>PbBr<sub>0.45</sub>I<sub>2.55</sub><br><b>Efficiency:</b> 16.72%<br><b>Annealing Temp:</b> 400.0°C<br><b>Annealing Time:</b> 0.066 hr<br><b>Solvents:</b> DMF; DMSO<br><b>Solvent Ratios:</b> 4; 1",
          "<b>Composition:</b> FA<sub>0.85</sub>MA<sub>0.15</sub>PbBr<sub>0.45</sub>I<sub>2.55</sub><br><b>Efficiency:</b> 19.69%<br><b>Annealing Temp:</b> 300.0°C<br><b>Annealing Time:</b> 0.133 hr<br><b>Solvents:</b> DMF; DMSO<br><b>Solvent Ratios:</b> 4; 1",
          "<b>Composition:</b> FA<sub>0.85</sub>MA<sub>0.15</sub>PbBr<sub>0.45</sub>I<sub>2.55</sub><br><b>Efficiency:</b> 13.56%<br><b>Annealing Temp:</b> 100.0°C<br><b>Annealing Time:</b> 30.0 hr<br><b>Solvents:</b> DMF; DMSO<br><b>Solvent Ratios:</b> 4; 1",
          "<b>Composition:</b> FA<sub>0.85</sub>MA<sub>0.15</sub>PbBr<sub>0.45</sub>I<sub>2.55</sub><br><b>Efficiency:</b> 13.82%<br><b>Annealing Temp:</b> 100.0°C<br><b>Annealing Time:</b> 30.0 hr<br><b>Solvents:</b> DMF; DMSO<br><b>Solvent Ratios:</b> 4; 1",
          "<b>Composition:</b> FA<sub>0.85</sub>MA<sub>0.15</sub>PbBr<sub>0.45</sub>I<sub>2.55</sub><br><b>Efficiency:</b> 19.13%<br><b>Annealing Temp:</b> 300.0°C<br><b>Annealing Time:</b> 0.133 hr<br><b>Solvents:</b> DMF; DMSO<br><b>Solvent Ratios:</b> 4; 1",
          "<b>Composition:</b> FA<sub>0.85</sub>MA<sub>0.15</sub>PbBr<sub>0.45</sub>I<sub>2.55</sub><br><b>Efficiency:</b> 17.37%<br><b>Annealing Temp:</b> 400.0°C<br><b>Annealing Time:</b> 0.066 hr<br><b>Solvents:</b> DMF; DMSO<br><b>Solvent Ratios:</b> 4; 1",
          "<b>Composition:</b> FA<sub>0.85</sub>MA<sub>0.15</sub>PbBr<sub>0.45</sub>I<sub>2.55</sub><br><b>Efficiency:</b> 19.14%<br><b>Annealing Temp:</b> 300.0°C<br><b>Annealing Time:</b> 0.133 hr<br><b>Solvents:</b> DMF; DMSO<br><b>Solvent Ratios:</b> 4; 1",
          "<b>Composition:</b> FA<sub>0.85</sub>MA<sub>0.15</sub>PbBr<sub>0.45</sub>I<sub>2.55</sub><br><b>Efficiency:</b> 16.72%<br><b>Annealing Temp:</b> 100.0°C<br><b>Annealing Time:</b> 30.0 hr<br><b>Solvents:</b> DMF; DMSO<br><b>Solvent Ratios:</b> 4; 1",
          "<b>Composition:</b> FA<sub>0.85</sub>MA<sub>0.15</sub>PbBr<sub>0.45</sub>I<sub>2.55</sub><br><b>Efficiency:</b> 19.51%<br><b>Annealing Temp:</b> 400.0°C<br><b>Annealing Time:</b> 0.066 hr<br><b>Solvents:</b> DMF; DMSO<br><b>Solvent Ratios:</b> 4; 1",
          "<b>Composition:</b> FA<sub>0.85</sub>MA<sub>0.15</sub>PbBr<sub>0.45</sub>I<sub>2.55</sub><br><b>Efficiency:</b> 20.45%<br><b>Annealing Temp:</b> 400.0°C<br><b>Annealing Time:</b> 0.066 hr<br><b>Solvents:</b> DMF; DMSO<br><b>Solvent Ratios:</b> 4; 1",
          "<b>Composition:</b> FA<sub>0.85</sub>MA<sub>0.15</sub>PbBr<sub>0.45</sub>I<sub>2.55</sub><br><b>Efficiency:</b> 19.52%<br><b>Annealing Temp:</b> 400.0°C<br><b>Annealing Time:</b> 0.066 hr<br><b>Solvents:</b> DMF; DMSO<br><b>Solvent Ratios:</b> 4; 1",
          "<b>Composition:</b> FA<sub>0.85</sub>MA<sub>0.15</sub>PbBr<sub>0.45</sub>I<sub>2.55</sub><br><b>Efficiency:</b> 19.43%<br><b>Annealing Temp:</b> 300.0°C<br><b>Annealing Time:</b> 0.133 hr<br><b>Solvents:</b> DMF; DMSO<br><b>Solvent Ratios:</b> 4; 1",
          "<b>Composition:</b> FA<sub>0.85</sub>MA<sub>0.15</sub>PbBr<sub>0.45</sub>I<sub>2.55</sub><br><b>Efficiency:</b> 17.69%<br><b>Annealing Temp:</b> 400.0°C<br><b>Annealing Time:</b> 0.066 hr<br><b>Solvents:</b> DMF; DMSO<br><b>Solvent Ratios:</b> 4; 1",
          "<b>Composition:</b> FA<sub>0.85</sub>MA<sub>0.15</sub>PbBr<sub>0.45</sub>I<sub>2.55</sub><br><b>Efficiency:</b> 11.33%<br><b>Annealing Temp:</b> 100.0°C<br><b>Annealing Time:</b> 30.0 hr<br><b>Solvents:</b> DMF; DMSO<br><b>Solvent Ratios:</b> 4; 1",
          "<b>Composition:</b> FA<sub>0.85</sub>MA<sub>0.15</sub>PbBr<sub>0.45</sub>I<sub>2.55</sub><br><b>Efficiency:</b> 18.96%<br><b>Annealing Temp:</b> 300.0°C<br><b>Annealing Time:</b> 0.133 hr<br><b>Solvents:</b> DMF; DMSO<br><b>Solvent Ratios:</b> 4; 1",
          "<b>Composition:</b> FA<sub>0.85</sub>MA<sub>0.15</sub>PbBr<sub>0.45</sub>I<sub>2.55</sub><br><b>Efficiency:</b> 18.12%<br><b>Annealing Temp:</b> 400.0°C<br><b>Annealing Time:</b> 0.066 hr<br><b>Solvents:</b> DMF; DMSO<br><b>Solvent Ratios:</b> 4; 1",
          "<b>Composition:</b> FA<sub>0.85</sub>MA<sub>0.15</sub>PbBr<sub>0.45</sub>I<sub>2.55</sub><br><b>Efficiency:</b> 13.32%<br><b>Annealing Temp:</b> 100.0°C<br><b>Annealing Time:</b> 30.0 hr<br><b>Solvents:</b> DMF; DMSO<br><b>Solvent Ratios:</b> 4; 1",
          "<b>Composition:</b> FA<sub>0.85</sub>MA<sub>0.15</sub>PbBr<sub>0.45</sub>I<sub>2.55</sub><br><b>Efficiency:</b> 12.73%<br><b>Annealing Temp:</b> 100.0°C<br><b>Annealing Time:</b> 30.0 hr<br><b>Solvents:</b> DMF; DMSO<br><b>Solvent Ratios:</b> 4; 1",
          "<b>Composition:</b> FA<sub>0.85</sub>MA<sub>0.15</sub>PbBr<sub>0.45</sub>I<sub>2.55</sub><br><b>Efficiency:</b> 11.83%<br><b>Annealing Temp:</b> 100.0°C<br><b>Annealing Time:</b> 30.0 hr<br><b>Solvents:</b> DMF; DMSO<br><b>Solvent Ratios:</b> 4; 1",
          "<b>Composition:</b> FA<sub>0.85</sub>MA<sub>0.15</sub>PbBr<sub>0.45</sub>I<sub>2.55</sub><br><b>Efficiency:</b> 17.58%<br><b>Annealing Temp:</b> 100.0°C<br><b>Annealing Time:</b> 30.0 hr<br><b>Solvents:</b> DMF; DMSO<br><b>Solvent Ratios:</b> 4; 1",
          "<b>Composition:</b> FA<sub>0.85</sub>MA<sub>0.15</sub>PbBr<sub>0.45</sub>I<sub>2.55</sub><br><b>Efficiency:</b> 16.55%<br><b>Annealing Temp:</b> 100.0°C<br><b>Annealing Time:</b> 30.0 hr<br><b>Solvents:</b> DMF; DMSO<br><b>Solvent Ratios:</b> 4; 1",
          "<b>Composition:</b> FA<sub>0.85</sub>MA<sub>0.15</sub>PbBr<sub>0.45</sub>I<sub>2.55</sub><br><b>Efficiency:</b> 16.90%<br><b>Annealing Temp:</b> 100.0°C<br><b>Annealing Time:</b> 30.0 hr<br><b>Solvents:</b> DMF; DMSO<br><b>Solvent Ratios:</b> 4; 1",
          "<b>Composition:</b> FA<sub>0.85</sub>MA<sub>0.15</sub>PbBr<sub>0.45</sub>I<sub>2.55</sub><br><b>Efficiency:</b> 16.98%<br><b>Annealing Temp:</b> 100.0°C<br><b>Annealing Time:</b> 30.0 hr<br><b>Solvents:</b> DMF; DMSO<br><b>Solvent Ratios:</b> 4; 1",
          "<b>Composition:</b> FA<sub>0.85</sub>MA<sub>0.15</sub>PbBr<sub>0.45</sub>I<sub>2.55</sub><br><b>Efficiency:</b> 17.09%<br><b>Annealing Temp:</b> 400.0°C<br><b>Annealing Time:</b> 0.066 hr<br><b>Solvents:</b> DMF; DMSO<br><b>Solvent Ratios:</b> 4; 1",
          "<b>Composition:</b> FA<sub>0.85</sub>MA<sub>0.15</sub>PbBr<sub>0.45</sub>I<sub>2.55</sub><br><b>Efficiency:</b> 17.33%<br><b>Annealing Temp:</b> 100.0°C<br><b>Annealing Time:</b> 30.0 hr<br><b>Solvents:</b> DMF; DMSO<br><b>Solvent Ratios:</b> 4; 1",
          "<b>Composition:</b> FA<sub>0.85</sub>MA<sub>0.15</sub>PbBr<sub>0.45</sub>I<sub>2.55</sub><br><b>Efficiency:</b> 12.03%<br><b>Annealing Temp:</b> 100.0°C<br><b>Annealing Time:</b> 30.0 hr<br><b>Solvents:</b> DMF; DMSO<br><b>Solvent Ratios:</b> 4; 1",
          "<b>Composition:</b> FA<sub>0.85</sub>MA<sub>0.15</sub>PbBr<sub>0.45</sub>I<sub>2.55</sub><br><b>Efficiency:</b> 20.37%<br><b>Annealing Temp:</b> 400.0°C<br><b>Annealing Time:</b> 0.066 hr<br><b>Solvents:</b> DMF; DMSO<br><b>Solvent Ratios:</b> 4; 1",
          "<b>Composition:</b> FA<sub>0.85</sub>MA<sub>0.15</sub>PbBr<sub>0.45</sub>I<sub>2.55</sub><br><b>Efficiency:</b> 17.95%<br><b>Annealing Temp:</b> 400.0°C<br><b>Annealing Time:</b> 0.066 hr<br><b>Solvents:</b> DMF; DMSO<br><b>Solvent Ratios:</b> 4; 1",
          "<b>Composition:</b> FA<sub>0.85</sub>MA<sub>0.15</sub>PbBr<sub>0.45</sub>I<sub>2.55</sub><br><b>Efficiency:</b> 17.39%<br><b>Annealing Temp:</b> 100.0°C<br><b>Annealing Time:</b> 30.0 hr<br><b>Solvents:</b> DMF; DMSO<br><b>Solvent Ratios:</b> 4; 1",
          "<b>Composition:</b> FA<sub>0.85</sub>MA<sub>0.15</sub>PbBr<sub>0.45</sub>I<sub>2.55</sub><br><b>Efficiency:</b> 19.05%<br><b>Annealing Temp:</b> 300.0°C<br><b>Annealing Time:</b> 0.133 hr<br><b>Solvents:</b> DMF; DMSO<br><b>Solvent Ratios:</b> 4; 1",
          "<b>Composition:</b> FA<sub>0.85</sub>MA<sub>0.15</sub>PbBr<sub>0.45</sub>I<sub>2.55</sub><br><b>Efficiency:</b> 10.28%<br><b>Annealing Temp:</b> 100.0°C<br><b>Annealing Time:</b> 30.0 hr<br><b>Solvents:</b> DMF; DMSO<br><b>Solvent Ratios:</b> 4; 1",
          "<b>Composition:</b> FA<sub>0.85</sub>MA<sub>0.15</sub>PbBr<sub>0.45</sub>I<sub>2.55</sub><br><b>Efficiency:</b> 17.96%<br><b>Annealing Temp:</b> 400.0°C<br><b>Annealing Time:</b> 0.066 hr<br><b>Solvents:</b> DMF; DMSO<br><b>Solvent Ratios:</b> 4; 1",
          "<b>Composition:</b> FA<sub>0.85</sub>MA<sub>0.15</sub>PbBr<sub>0.45</sub>I<sub>2.55</sub><br><b>Efficiency:</b> 19.33%<br><b>Annealing Temp:</b> 300.0°C<br><b>Annealing Time:</b> 0.133 hr<br><b>Solvents:</b> DMF; DMSO<br><b>Solvent Ratios:</b> 4; 1",
          "<b>Composition:</b> FA<sub>0.85</sub>MA<sub>0.15</sub>PbBr<sub>0.45</sub>I<sub>2.55</sub><br><b>Efficiency:</b> 17.95%<br><b>Annealing Temp:</b> 200.0°C<br><b>Annealing Time:</b> 1.0 hr<br><b>Solvents:</b> DMF; DMSO<br><b>Solvent Ratios:</b> 4; 1",
          "<b>Composition:</b> FA<sub>0.85</sub>MA<sub>0.15</sub>PbBr<sub>0.45</sub>I<sub>2.55</sub><br><b>Efficiency:</b> 13.53%<br><b>Annealing Temp:</b> 100.0°C<br><b>Annealing Time:</b> 30.0 hr<br><b>Solvents:</b> DMF; DMSO<br><b>Solvent Ratios:</b> 4; 1",
          "<b>Composition:</b> FA<sub>0.85</sub>MA<sub>0.15</sub>PbBr<sub>0.45</sub>I<sub>2.55</sub><br><b>Efficiency:</b> 15.85%<br><b>Annealing Temp:</b> 100.0°C<br><b>Annealing Time:</b> 30.0 hr<br><b>Solvents:</b> DMF; DMSO<br><b>Solvent Ratios:</b> 4; 1",
          "<b>Composition:</b> FA<sub>0.85</sub>MA<sub>0.15</sub>PbBr<sub>0.45</sub>I<sub>2.55</sub><br><b>Efficiency:</b> 13.47%<br><b>Annealing Temp:</b> 100.0°C<br><b>Annealing Time:</b> 30.0 hr<br><b>Solvents:</b> DMF; DMSO<br><b>Solvent Ratios:</b> 4; 1",
          "<b>Composition:</b> FA<sub>0.85</sub>MA<sub>0.15</sub>PbBr<sub>0.45</sub>I<sub>2.55</sub><br><b>Efficiency:</b> 11.38%<br><b>Annealing Temp:</b> 100.0°C<br><b>Annealing Time:</b> 30.0 hr<br><b>Solvents:</b> DMF; DMSO<br><b>Solvent Ratios:</b> 4; 1",
          "<b>Composition:</b> FA<sub>0.85</sub>MA<sub>0.15</sub>PbBr<sub>0.45</sub>I<sub>2.55</sub><br><b>Efficiency:</b> 18.86%<br><b>Annealing Temp:</b> 300.0°C<br><b>Annealing Time:</b> 0.133 hr<br><b>Solvents:</b> DMF; DMSO<br><b>Solvent Ratios:</b> 4; 1",
          "<b>Composition:</b> FA<sub>0.85</sub>MA<sub>0.15</sub>PbBr<sub>0.45</sub>I<sub>2.55</sub><br><b>Efficiency:</b> 17.47%<br><b>Annealing Temp:</b> 400.0°C<br><b>Annealing Time:</b> 0.066 hr<br><b>Solvents:</b> DMF; DMSO<br><b>Solvent Ratios:</b> 4; 1",
          "<b>Composition:</b> FA<sub>0.85</sub>MA<sub>0.15</sub>PbBr<sub>0.45</sub>I<sub>2.55</sub><br><b>Efficiency:</b> 13.37%<br><b>Annealing Temp:</b> 100.0°C<br><b>Annealing Time:</b> 30.0 hr<br><b>Solvents:</b> DMF; DMSO<br><b>Solvent Ratios:</b> 4; 1",
          "<b>Composition:</b> FA<sub>0.85</sub>MA<sub>0.15</sub>PbBr<sub>0.45</sub>I<sub>2.55</sub><br><b>Efficiency:</b> 18.12%<br><b>Annealing Temp:</b> 200.0°C<br><b>Annealing Time:</b> 1.0 hr<br><b>Solvents:</b> DMF; DMSO<br><b>Solvent Ratios:</b> 4; 1",
          "<b>Composition:</b> FA<sub>0.85</sub>MA<sub>0.15</sub>PbBr<sub>0.45</sub>I<sub>2.55</sub><br><b>Efficiency:</b> 19.80%<br><b>Annealing Temp:</b> 400.0°C<br><b>Annealing Time:</b> 0.066 hr<br><b>Solvents:</b> DMF; DMSO<br><b>Solvent Ratios:</b> 4; 1",
          "<b>Composition:</b> FA<sub>0.85</sub>MA<sub>0.15</sub>PbBr<sub>0.45</sub>I<sub>2.55</sub><br><b>Efficiency:</b> 20.09%<br><b>Annealing Temp:</b> 400.0°C<br><b>Annealing Time:</b> 0.066 hr<br><b>Solvents:</b> DMF; DMSO<br><b>Solvent Ratios:</b> 4; 1",
          "<b>Composition:</b> FA<sub>0.85</sub>MA<sub>0.15</sub>PbBr<sub>0.45</sub>I<sub>2.55</sub><br><b>Efficiency:</b> 19.89%<br><b>Annealing Temp:</b> 400.0°C<br><b>Annealing Time:</b> 0.066 hr<br><b>Solvents:</b> DMF; DMSO<br><b>Solvent Ratios:</b> 4; 1",
          "<b>Composition:</b> FA<sub>0.85</sub>MA<sub>0.15</sub>PbBr<sub>0.45</sub>I<sub>2.55</sub><br><b>Efficiency:</b> 20.36%<br><b>Annealing Temp:</b> 400.0°C<br><b>Annealing Time:</b> 0.066 hr<br><b>Solvents:</b> DMF; DMSO<br><b>Solvent Ratios:</b> 4; 1",
          "<b>Composition:</b> FA<sub>0.85</sub>MA<sub>0.15</sub>PbBr<sub>0.45</sub>I<sub>2.55</sub><br><b>Efficiency:</b> 19.24%<br><b>Annealing Temp:</b> 300.0°C<br><b>Annealing Time:</b> 0.133 hr<br><b>Solvents:</b> DMF; DMSO<br><b>Solvent Ratios:</b> 4; 1",
          "<b>Composition:</b> FA<sub>0.85</sub>MA<sub>0.15</sub>PbBr<sub>0.45</sub>I<sub>2.55</sub><br><b>Efficiency:</b> 18.14%<br><b>Annealing Temp:</b> 200.0°C<br><b>Annealing Time:</b> 1.0 hr<br><b>Solvents:</b> DMF; DMSO<br><b>Solvent Ratios:</b> 4; 1",
          "<b>Composition:</b> FA<sub>0.85</sub>MA<sub>0.15</sub>PbBr<sub>0.45</sub>I<sub>2.55</sub><br><b>Efficiency:</b> 18.13%<br><b>Annealing Temp:</b> 200.0°C<br><b>Annealing Time:</b> 1.0 hr<br><b>Solvents:</b> DMF; DMSO<br><b>Solvent Ratios:</b> 4; 1",
          "<b>Composition:</b> FA<sub>0.85</sub>MA<sub>0.15</sub>PbBr<sub>0.45</sub>I<sub>2.55</sub><br><b>Efficiency:</b> 16.63%<br><b>Annealing Temp:</b> 100.0°C<br><b>Annealing Time:</b> 30.0 hr<br><b>Solvents:</b> DMF; DMSO<br><b>Solvent Ratios:</b> 4; 1",
          "<b>Composition:</b> FA<sub>0.85</sub>MA<sub>0.15</sub>PbBr<sub>0.45</sub>I<sub>2.55</sub><br><b>Efficiency:</b> 12.97%<br><b>Annealing Temp:</b> 100.0°C<br><b>Annealing Time:</b> 30.0 hr<br><b>Solvents:</b> DMF; DMSO<br><b>Solvent Ratios:</b> 4; 1",
          "<b>Composition:</b> FA<sub>0.85</sub>MA<sub>0.15</sub>PbBr<sub>0.45</sub>I<sub>2.55</sub><br><b>Efficiency:</b> 19.99%<br><b>Annealing Temp:</b> 400.0°C<br><b>Annealing Time:</b> 0.066 hr<br><b>Solvents:</b> DMF; DMSO<br><b>Solvent Ratios:</b> 4; 1",
          "<b>Composition:</b> FA<sub>0.85</sub>MA<sub>0.15</sub>PbBr<sub>0.45</sub>I<sub>2.55</sub><br><b>Efficiency:</b> 19.13%<br><b>Annealing Temp:</b> 300.0°C<br><b>Annealing Time:</b> 0.133 hr<br><b>Solvents:</b> DMF; DMSO<br><b>Solvent Ratios:</b> 4; 1",
          "<b>Composition:</b> FA<sub>0.85</sub>MA<sub>0.15</sub>PbBr<sub>0.45</sub>I<sub>2.55</sub><br><b>Efficiency:</b> 20.56%<br><b>Annealing Temp:</b> 400.0°C<br><b>Annealing Time:</b> 0.066 hr<br><b>Solvents:</b> DMF; DMSO<br><b>Solvent Ratios:</b> 4; 1",
          "<b>Composition:</b> FA<sub>0.85</sub>MA<sub>0.15</sub>PbBr<sub>0.45</sub>I<sub>2.55</sub><br><b>Efficiency:</b> 18.14%<br><b>Annealing Temp:</b> 400.0°C<br><b>Annealing Time:</b> 0.066 hr<br><b>Solvents:</b> DMF; DMSO<br><b>Solvent Ratios:</b> 4; 1",
          "<b>Composition:</b> FA<sub>0.85</sub>MA<sub>0.15</sub>PbBr<sub>0.45</sub>I<sub>2.55</sub><br><b>Efficiency:</b> 18.41%<br><b>Annealing Temp:</b> 200.0°C<br><b>Annealing Time:</b> 1.0 hr<br><b>Solvents:</b> DMF; DMSO<br><b>Solvent Ratios:</b> 4; 1",
          "<b>Composition:</b> FA<sub>0.85</sub>MA<sub>0.15</sub>PbBr<sub>0.45</sub>I<sub>2.55</sub><br><b>Efficiency:</b> 18.26%<br><b>Annealing Temp:</b> 200.0°C<br><b>Annealing Time:</b> 1.0 hr<br><b>Solvents:</b> DMF; DMSO<br><b>Solvent Ratios:</b> 4; 1",
          "<b>Composition:</b> FA<sub>0.85</sub>MA<sub>0.15</sub>PbBr<sub>0.45</sub>I<sub>2.55</sub><br><b>Efficiency:</b> 16.46%<br><b>Annealing Temp:</b> 100.0°C<br><b>Annealing Time:</b> 30.0 hr<br><b>Solvents:</b> DMF; DMSO<br><b>Solvent Ratios:</b> 4; 1",
          "<b>Composition:</b> FA<sub>0.85</sub>MA<sub>0.15</sub>PbBr<sub>0.45</sub>I<sub>2.55</sub><br><b>Efficiency:</b> 12.66%<br><b>Annealing Temp:</b> 100.0°C<br><b>Annealing Time:</b> 30.0 hr<br><b>Solvents:</b> DMF; DMSO<br><b>Solvent Ratios:</b> 4; 1",
          "<b>Composition:</b> FA<sub>0.85</sub>MA<sub>0.15</sub>PbBr<sub>0.45</sub>I<sub>2.55</sub><br><b>Efficiency:</b> 19.51%<br><b>Annealing Temp:</b> 300.0°C<br><b>Annealing Time:</b> 0.133 hr<br><b>Solvents:</b> DMF; DMSO<br><b>Solvent Ratios:</b> 4; 1",
          "<b>Composition:</b> FA<sub>0.85</sub>MA<sub>0.15</sub>PbBr<sub>0.45</sub>I<sub>2.55</sub><br><b>Efficiency:</b> 17.33%<br><b>Annealing Temp:</b> 400.0°C<br><b>Annealing Time:</b> 0.066 hr<br><b>Solvents:</b> DMF; DMSO<br><b>Solvent Ratios:</b> 4; 1",
          "<b>Composition:</b> FA<sub>0.85</sub>MA<sub>0.15</sub>PbBr<sub>0.45</sub>I<sub>2.55</sub><br><b>Efficiency:</b> 16.95%<br><b>Annealing Temp:</b> 400.0°C<br><b>Annealing Time:</b> 0.066 hr<br><b>Solvents:</b> DMF; DMSO<br><b>Solvent Ratios:</b> 4; 1",
          "<b>Composition:</b> FA<sub>0.85</sub>MA<sub>0.15</sub>PbBr<sub>0.45</sub>I<sub>2.55</sub><br><b>Efficiency:</b> 20.18%<br><b>Annealing Temp:</b> 400.0°C<br><b>Annealing Time:</b> 0.066 hr<br><b>Solvents:</b> DMF; DMSO<br><b>Solvent Ratios:</b> 4; 1",
          "<b>Composition:</b> FA<sub>0.85</sub>MA<sub>0.15</sub>PbBr<sub>0.45</sub>I<sub>2.55</sub><br><b>Efficiency:</b> 17.68%<br><b>Annealing Temp:</b> 400.0°C<br><b>Annealing Time:</b> 0.066 hr<br><b>Solvents:</b> DMF; DMSO<br><b>Solvent Ratios:</b> 4; 1",
          "<b>Composition:</b> FA<sub>0.85</sub>MA<sub>0.15</sub>PbBr<sub>0.45</sub>I<sub>2.55</sub><br><b>Efficiency:</b> 19.31%<br><b>Annealing Temp:</b> 300.0°C<br><b>Annealing Time:</b> 0.133 hr<br><b>Solvents:</b> DMF; DMSO<br><b>Solvent Ratios:</b> 4; 1",
          "<b>Composition:</b> FA<sub>0.85</sub>MA<sub>0.15</sub>PbBr<sub>0.45</sub>I<sub>2.55</sub><br><b>Efficiency:</b> 17.75%<br><b>Annealing Temp:</b> 400.0°C<br><b>Annealing Time:</b> 0.066 hr<br><b>Solvents:</b> DMF; DMSO<br><b>Solvent Ratios:</b> 4; 1",
          "<b>Composition:</b> FA<sub>0.85</sub>MA<sub>0.15</sub>PbBr<sub>0.45</sub>I<sub>2.55</sub><br><b>Efficiency:</b> 20.75%<br><b>Annealing Temp:</b> 400.0°C<br><b>Annealing Time:</b> 0.066 hr<br><b>Solvents:</b> DMF; DMSO<br><b>Solvent Ratios:</b> 4; 1",
          "<b>Composition:</b> FA<sub>0.85</sub>MA<sub>0.15</sub>PbBr<sub>0.45</sub>I<sub>2.55</sub><br><b>Efficiency:</b> 20.08%<br><b>Annealing Temp:</b> 400.0°C<br><b>Annealing Time:</b> 0.066 hr<br><b>Solvents:</b> DMF; DMSO<br><b>Solvent Ratios:</b> 4; 1",
          "<b>Composition:</b> FA<sub>0.85</sub>MA<sub>0.15</sub>PbBr<sub>0.45</sub>I<sub>2.55</sub><br><b>Efficiency:</b> 19.15%<br><b>Annealing Temp:</b> 300.0°C<br><b>Annealing Time:</b> 0.133 hr<br><b>Solvents:</b> DMF; DMSO<br><b>Solvent Ratios:</b> 4; 1",
          "<b>Composition:</b> FA<sub>0.85</sub>MA<sub>0.15</sub>PbBr<sub>0.45</sub>I<sub>2.55</sub><br><b>Efficiency:</b> 18.86%<br><b>Annealing Temp:</b> 200.0°C<br><b>Annealing Time:</b> 1.0 hr<br><b>Solvents:</b> DMF; DMSO<br><b>Solvent Ratios:</b> 4; 1"
         ],
         "type": "scatter3d",
         "x": {
          "bdata": "TDeJQWDlsD9MN4lBYOWwP0w3iUFg5bA/AAAAAAAAPkAAAAAAAAA+QAAAAAAAAPA/AAAAAAAA8D8AAAAAAAA+QAAAAAAAAD5AAAAAAAAAPkAAAAAAAAA+QAAAAAAAAD5AAAAAAAAAPkBMN4lBYOWwP0w3iUFg5bA/AAAAAAAA8D+gGi/dJAbBP6AaL90kBsE/oBov3SQGwT8AAAAAAAA+QAAAAAAAAD5AAAAAAAAAPkBMN4lBYOWwPwAAAAAAAPA/oBov3SQGwT9MN4lBYOWwP0w3iUFg5bA/AAAAAAAAPkBMN4lBYOWwP0w3iUFg5bA/TDeJQWDlsD9MN4lBYOWwPwAAAAAAAD5ATDeJQWDlsD+gGi/dJAbBPwAAAAAAAD5ATDeJQWDlsD8AAAAAAAA+QEw3iUFg5bA/AAAAAAAA8D+gGi/dJAbBPwAAAAAAAD5AoBov3SQGwT9MN4lBYOWwPwAAAAAAAPA/AAAAAAAA8D8AAAAAAAA+QKAaL90kBsE/AAAAAAAAPkBMN4lBYOWwP6AaL90kBsE/AAAAAAAAPkAAAAAAAAA+QKAaL90kBsE/TDeJQWDlsD+gGi/dJAbBPwAAAAAAAD5ATDeJQWDlsD9MN4lBYOWwP0w3iUFg5bA/oBov3SQGwT9MN4lBYOWwPwAAAAAAAD5AoBov3SQGwT9MN4lBYOWwPwAAAAAAAD5AAAAAAAAAPkAAAAAAAAA+QAAAAAAAAD5AAAAAAAAAPkAAAAAAAAA+QAAAAAAAAD5ATDeJQWDlsD8AAAAAAAA+QAAAAAAAAD5ATDeJQWDlsD9MN4lBYOWwPwAAAAAAAD5AoBov3SQGwT8AAAAAAAA+QEw3iUFg5bA/oBov3SQGwT8AAAAAAADwPwAAAAAAAD5AAAAAAAAAPkAAAAAAAAA+QAAAAAAAAD5AoBov3SQGwT9MN4lBYOWwPwAAAAAAAD5AAAAAAAAA8D9MN4lBYOWwP0w3iUFg5bA/TDeJQWDlsD9MN4lBYOWwP6AaL90kBsE/AAAAAAAA8D8AAAAAAADwPwAAAAAAAD5AAAAAAAAAPkBMN4lBYOWwP6AaL90kBsE/TDeJQWDlsD9MN4lBYOWwPwAAAAAAAPA/AAAAAAAA8D8AAAAAAAA+QAAAAAAAAD5AoBov3SQGwT9MN4lBYOWwP0w3iUFg5bA/TDeJQWDlsD9MN4lBYOWwP6AaL90kBsE/TDeJQWDlsD9MN4lBYOWwP0w3iUFg5bA/oBov3SQGwT8AAAAAAADwPw==",
          "dtype": "f8"
         },
         "y": {
          "bdata": "AAAAAAAAeUAAAAAAAAB5QAAAAAAAAHlAAAAAAAAAWUAAAAAAAABZQAAAAAAAAGlAAAAAAAAAaUAAAAAAAABZQAAAAAAAAFlAAAAAAAAAWUAAAAAAAABZQAAAAAAAAFlAAAAAAAAAWUAAAAAAAAB5QAAAAAAAAHlAAAAAAAAAaUAAAAAAAMByQAAAAAAAwHJAAAAAAADAckAAAAAAAABZQAAAAAAAAFlAAAAAAAAAWUAAAAAAAAB5QAAAAAAAAGlAAAAAAADAckAAAAAAAAB5QAAAAAAAAHlAAAAAAAAAWUAAAAAAAAB5QAAAAAAAAHlAAAAAAAAAeUAAAAAAAAB5QAAAAAAAAFlAAAAAAAAAeUAAAAAAAMByQAAAAAAAAFlAAAAAAAAAeUAAAAAAAABZQAAAAAAAAHlAAAAAAAAAaUAAAAAAAMByQAAAAAAAAFlAAAAAAADAckAAAAAAAAB5QAAAAAAAAGlAAAAAAAAAaUAAAAAAAABZQAAAAAAAwHJAAAAAAAAAWUAAAAAAAAB5QAAAAAAAwHJAAAAAAAAAWUAAAAAAAABZQAAAAAAAwHJAAAAAAAAAeUAAAAAAAMByQAAAAAAAAFlAAAAAAAAAeUAAAAAAAAB5QAAAAAAAAHlAAAAAAADAckAAAAAAAAB5QAAAAAAAAFlAAAAAAADAckAAAAAAAAB5QAAAAAAAAFlAAAAAAAAAWUAAAAAAAABZQAAAAAAAAFlAAAAAAAAAWUAAAAAAAABZQAAAAAAAAFlAAAAAAAAAeUAAAAAAAABZQAAAAAAAAFlAAAAAAAAAeUAAAAAAAAB5QAAAAAAAAFlAAAAAAADAckAAAAAAAABZQAAAAAAAAHlAAAAAAADAckAAAAAAAABpQAAAAAAAAFlAAAAAAAAAWUAAAAAAAABZQAAAAAAAAFlAAAAAAADAckAAAAAAAAB5QAAAAAAAAFlAAAAAAAAAaUAAAAAAAAB5QAAAAAAAAHlAAAAAAAAAeUAAAAAAAAB5QAAAAAAAwHJAAAAAAAAAaUAAAAAAAABpQAAAAAAAAFlAAAAAAAAAWUAAAAAAAAB5QAAAAAAAwHJAAAAAAAAAeUAAAAAAAAB5QAAAAAAAAGlAAAAAAAAAaUAAAAAAAABZQAAAAAAAAFlAAAAAAADAckAAAAAAAAB5QAAAAAAAAHlAAAAAAAAAeUAAAAAAAAB5QAAAAAAAwHJAAAAAAAAAeUAAAAAAAAB5QAAAAAAAAHlAAAAAAADAckAAAAAAAABpQA==",
          "dtype": "f8"
         },
         "z": {
          "bdata": "SOF6FK5HNEDXo3A9CpcxQAAAAAAAwDFAPQrXo3D9MEAfhetRuB4xQAAAAAAAgDJAmpmZmZmZMUCF61G4HgUpQMP1KFyPwipAKVyPwvVoMUB7FK5H4fonQPYoXI/C9TBAKVyPwvUoMUCkcD0K1yM0QFK4HoXrUTJAUrgehetRMkBmZmZmZiYzQAAAAAAAQDNAPQrXo3A9M0ApXI/C9SgpQD0K16NwPStA7FG4HoVrMUDsUbgehSsxQFK4HoXrUTJA9ihcj8K1M0A9CtejcH0zQOxRuB6FKzRAj8L1KFzPMEAfhetRuF40QK5H4XoULjRAzczMzMwMMkDNzMzMzIw0QJqZmZmZ2TBACtejcD3KMEDsUbgehWszQM3MzMzMTCpAAAAAAACAMUCamZmZmZkxQM3MzMzMDDJAH4XrUbjeMkC4HoXrUTgzQM3MzMzMTDFAFK5H4XpUM0CF61G4HkU0QHsUrkfhejJAhetRuB5FMkCkcD0K16MoQArXo3A9CjNAj8L1KFzPMEC4HoXrUbgwQHE9CtejsDNAH4XrUbgeK0CkcD0K16MrQOF6FK5HITNAH4XrUbheMUCkcD0K1yMzQLgehetRuDBAw/UoXI+CM0AzMzMzM3M0QIXrUbgehTNArkfhehRuM0BxPQrXo7AxQClcj8L1qCZA9ihcj8L1MkAfhetRuB4yQKRwPQrXoypA9ihcj8J1KUApXI/C9agnQBSuR+F6lDFAzczMzMyMMEBmZmZmZuYwQHsUrkfh+jBA16NwPQoXMUAUrkfhelQxQI/C9ShcDyhAH4XrUbheNEAzMzMzM/MxQKRwPQrXYzFAzczMzMwMM0CPwvUoXI8kQPYoXI/C9TFAFK5H4XpUM0AzMzMzM/MxQI/C9ShcDytAMzMzMzOzL0BxPQrXo/AqQMP1KFyPwiZAXI/C9SjcMkC4HoXrUXgxQD0K16NwvSpAH4XrUbgeMkDNzMzMzMwzQNejcD0KFzRApHA9CtfjM0Bcj8L1KFw0QD0K16NwPTNApHA9CtcjMkDhehSuRyEyQOF6FK5HoTBAcT0K16PwKUA9CtejcP0zQOF6FK5HITNAj8L1KFyPNECkcD0K1yMyQClcj8L1aDJAw/UoXI9CMkD2KFyPwnUwQFK4HoXrUSlAw/UoXI+CM0AUrkfhelQxQDMzMzMz8zBArkfhehQuNECuR+F6FK4xQI/C9ShcTzNAAAAAAADAMUAAAAAAAMA0QBSuR+F6FDRAZmZmZmYmM0Bcj8L1KNwyQA==",
          "dtype": "f8"
         }
        }
       ],
       "layout": {
        "scene": {
         "xaxis": {
          "title": {
           "text": "Annealing Time (log scale)"
          },
          "type": "log"
         },
         "yaxis": {
          "title": {
           "text": "Annealing Temperature (°C)"
          }
         },
         "zaxis": {
          "title": {
           "text": "Efficiency (%)"
          }
         }
        },
        "template": {
         "data": {
          "bar": [
           {
            "error_x": {
             "color": "#2a3f5f"
            },
            "error_y": {
             "color": "#2a3f5f"
            },
            "marker": {
             "line": {
              "color": "#E5ECF6",
              "width": 0.5
             },
             "pattern": {
              "fillmode": "overlay",
              "size": 10,
              "solidity": 0.2
             }
            },
            "type": "bar"
           }
          ],
          "barpolar": [
           {
            "marker": {
             "line": {
              "color": "#E5ECF6",
              "width": 0.5
             },
             "pattern": {
              "fillmode": "overlay",
              "size": 10,
              "solidity": 0.2
             }
            },
            "type": "barpolar"
           }
          ],
          "carpet": [
           {
            "aaxis": {
             "endlinecolor": "#2a3f5f",
             "gridcolor": "white",
             "linecolor": "white",
             "minorgridcolor": "white",
             "startlinecolor": "#2a3f5f"
            },
            "baxis": {
             "endlinecolor": "#2a3f5f",
             "gridcolor": "white",
             "linecolor": "white",
             "minorgridcolor": "white",
             "startlinecolor": "#2a3f5f"
            },
            "type": "carpet"
           }
          ],
          "choropleth": [
           {
            "colorbar": {
             "outlinewidth": 0,
             "ticks": ""
            },
            "type": "choropleth"
           }
          ],
          "contour": [
           {
            "colorbar": {
             "outlinewidth": 0,
             "ticks": ""
            },
            "colorscale": [
             [
              0,
              "#0d0887"
             ],
             [
              0.1111111111111111,
              "#46039f"
             ],
             [
              0.2222222222222222,
              "#7201a8"
             ],
             [
              0.3333333333333333,
              "#9c179e"
             ],
             [
              0.4444444444444444,
              "#bd3786"
             ],
             [
              0.5555555555555556,
              "#d8576b"
             ],
             [
              0.6666666666666666,
              "#ed7953"
             ],
             [
              0.7777777777777778,
              "#fb9f3a"
             ],
             [
              0.8888888888888888,
              "#fdca26"
             ],
             [
              1,
              "#f0f921"
             ]
            ],
            "type": "contour"
           }
          ],
          "contourcarpet": [
           {
            "colorbar": {
             "outlinewidth": 0,
             "ticks": ""
            },
            "type": "contourcarpet"
           }
          ],
          "heatmap": [
           {
            "colorbar": {
             "outlinewidth": 0,
             "ticks": ""
            },
            "colorscale": [
             [
              0,
              "#0d0887"
             ],
             [
              0.1111111111111111,
              "#46039f"
             ],
             [
              0.2222222222222222,
              "#7201a8"
             ],
             [
              0.3333333333333333,
              "#9c179e"
             ],
             [
              0.4444444444444444,
              "#bd3786"
             ],
             [
              0.5555555555555556,
              "#d8576b"
             ],
             [
              0.6666666666666666,
              "#ed7953"
             ],
             [
              0.7777777777777778,
              "#fb9f3a"
             ],
             [
              0.8888888888888888,
              "#fdca26"
             ],
             [
              1,
              "#f0f921"
             ]
            ],
            "type": "heatmap"
           }
          ],
          "histogram": [
           {
            "marker": {
             "pattern": {
              "fillmode": "overlay",
              "size": 10,
              "solidity": 0.2
             }
            },
            "type": "histogram"
           }
          ],
          "histogram2d": [
           {
            "colorbar": {
             "outlinewidth": 0,
             "ticks": ""
            },
            "colorscale": [
             [
              0,
              "#0d0887"
             ],
             [
              0.1111111111111111,
              "#46039f"
             ],
             [
              0.2222222222222222,
              "#7201a8"
             ],
             [
              0.3333333333333333,
              "#9c179e"
             ],
             [
              0.4444444444444444,
              "#bd3786"
             ],
             [
              0.5555555555555556,
              "#d8576b"
             ],
             [
              0.6666666666666666,
              "#ed7953"
             ],
             [
              0.7777777777777778,
              "#fb9f3a"
             ],
             [
              0.8888888888888888,
              "#fdca26"
             ],
             [
              1,
              "#f0f921"
             ]
            ],
            "type": "histogram2d"
           }
          ],
          "histogram2dcontour": [
           {
            "colorbar": {
             "outlinewidth": 0,
             "ticks": ""
            },
            "colorscale": [
             [
              0,
              "#0d0887"
             ],
             [
              0.1111111111111111,
              "#46039f"
             ],
             [
              0.2222222222222222,
              "#7201a8"
             ],
             [
              0.3333333333333333,
              "#9c179e"
             ],
             [
              0.4444444444444444,
              "#bd3786"
             ],
             [
              0.5555555555555556,
              "#d8576b"
             ],
             [
              0.6666666666666666,
              "#ed7953"
             ],
             [
              0.7777777777777778,
              "#fb9f3a"
             ],
             [
              0.8888888888888888,
              "#fdca26"
             ],
             [
              1,
              "#f0f921"
             ]
            ],
            "type": "histogram2dcontour"
           }
          ],
          "mesh3d": [
           {
            "colorbar": {
             "outlinewidth": 0,
             "ticks": ""
            },
            "type": "mesh3d"
           }
          ],
          "parcoords": [
           {
            "line": {
             "colorbar": {
              "outlinewidth": 0,
              "ticks": ""
             }
            },
            "type": "parcoords"
           }
          ],
          "pie": [
           {
            "automargin": true,
            "type": "pie"
           }
          ],
          "scatter": [
           {
            "fillpattern": {
             "fillmode": "overlay",
             "size": 10,
             "solidity": 0.2
            },
            "type": "scatter"
           }
          ],
          "scatter3d": [
           {
            "line": {
             "colorbar": {
              "outlinewidth": 0,
              "ticks": ""
             }
            },
            "marker": {
             "colorbar": {
              "outlinewidth": 0,
              "ticks": ""
             }
            },
            "type": "scatter3d"
           }
          ],
          "scattercarpet": [
           {
            "marker": {
             "colorbar": {
              "outlinewidth": 0,
              "ticks": ""
             }
            },
            "type": "scattercarpet"
           }
          ],
          "scattergeo": [
           {
            "marker": {
             "colorbar": {
              "outlinewidth": 0,
              "ticks": ""
             }
            },
            "type": "scattergeo"
           }
          ],
          "scattergl": [
           {
            "marker": {
             "colorbar": {
              "outlinewidth": 0,
              "ticks": ""
             }
            },
            "type": "scattergl"
           }
          ],
          "scattermap": [
           {
            "marker": {
             "colorbar": {
              "outlinewidth": 0,
              "ticks": ""
             }
            },
            "type": "scattermap"
           }
          ],
          "scattermapbox": [
           {
            "marker": {
             "colorbar": {
              "outlinewidth": 0,
              "ticks": ""
             }
            },
            "type": "scattermapbox"
           }
          ],
          "scatterpolar": [
           {
            "marker": {
             "colorbar": {
              "outlinewidth": 0,
              "ticks": ""
             }
            },
            "type": "scatterpolar"
           }
          ],
          "scatterpolargl": [
           {
            "marker": {
             "colorbar": {
              "outlinewidth": 0,
              "ticks": ""
             }
            },
            "type": "scatterpolargl"
           }
          ],
          "scatterternary": [
           {
            "marker": {
             "colorbar": {
              "outlinewidth": 0,
              "ticks": ""
             }
            },
            "type": "scatterternary"
           }
          ],
          "surface": [
           {
            "colorbar": {
             "outlinewidth": 0,
             "ticks": ""
            },
            "colorscale": [
             [
              0,
              "#0d0887"
             ],
             [
              0.1111111111111111,
              "#46039f"
             ],
             [
              0.2222222222222222,
              "#7201a8"
             ],
             [
              0.3333333333333333,
              "#9c179e"
             ],
             [
              0.4444444444444444,
              "#bd3786"
             ],
             [
              0.5555555555555556,
              "#d8576b"
             ],
             [
              0.6666666666666666,
              "#ed7953"
             ],
             [
              0.7777777777777778,
              "#fb9f3a"
             ],
             [
              0.8888888888888888,
              "#fdca26"
             ],
             [
              1,
              "#f0f921"
             ]
            ],
            "type": "surface"
           }
          ],
          "table": [
           {
            "cells": {
             "fill": {
              "color": "#EBF0F8"
             },
             "line": {
              "color": "white"
             }
            },
            "header": {
             "fill": {
              "color": "#C8D4E3"
             },
             "line": {
              "color": "white"
             }
            },
            "type": "table"
           }
          ]
         },
         "layout": {
          "annotationdefaults": {
           "arrowcolor": "#2a3f5f",
           "arrowhead": 0,
           "arrowwidth": 1
          },
          "autotypenumbers": "strict",
          "coloraxis": {
           "colorbar": {
            "outlinewidth": 0,
            "ticks": ""
           }
          },
          "colorscale": {
           "diverging": [
            [
             0,
             "#8e0152"
            ],
            [
             0.1,
             "#c51b7d"
            ],
            [
             0.2,
             "#de77ae"
            ],
            [
             0.3,
             "#f1b6da"
            ],
            [
             0.4,
             "#fde0ef"
            ],
            [
             0.5,
             "#f7f7f7"
            ],
            [
             0.6,
             "#e6f5d0"
            ],
            [
             0.7,
             "#b8e186"
            ],
            [
             0.8,
             "#7fbc41"
            ],
            [
             0.9,
             "#4d9221"
            ],
            [
             1,
             "#276419"
            ]
           ],
           "sequential": [
            [
             0,
             "#0d0887"
            ],
            [
             0.1111111111111111,
             "#46039f"
            ],
            [
             0.2222222222222222,
             "#7201a8"
            ],
            [
             0.3333333333333333,
             "#9c179e"
            ],
            [
             0.4444444444444444,
             "#bd3786"
            ],
            [
             0.5555555555555556,
             "#d8576b"
            ],
            [
             0.6666666666666666,
             "#ed7953"
            ],
            [
             0.7777777777777778,
             "#fb9f3a"
            ],
            [
             0.8888888888888888,
             "#fdca26"
            ],
            [
             1,
             "#f0f921"
            ]
           ],
           "sequentialminus": [
            [
             0,
             "#0d0887"
            ],
            [
             0.1111111111111111,
             "#46039f"
            ],
            [
             0.2222222222222222,
             "#7201a8"
            ],
            [
             0.3333333333333333,
             "#9c179e"
            ],
            [
             0.4444444444444444,
             "#bd3786"
            ],
            [
             0.5555555555555556,
             "#d8576b"
            ],
            [
             0.6666666666666666,
             "#ed7953"
            ],
            [
             0.7777777777777778,
             "#fb9f3a"
            ],
            [
             0.8888888888888888,
             "#fdca26"
            ],
            [
             1,
             "#f0f921"
            ]
           ]
          },
          "colorway": [
           "#636efa",
           "#EF553B",
           "#00cc96",
           "#ab63fa",
           "#FFA15A",
           "#19d3f3",
           "#FF6692",
           "#B6E880",
           "#FF97FF",
           "#FECB52"
          ],
          "font": {
           "color": "#2a3f5f"
          },
          "geo": {
           "bgcolor": "white",
           "lakecolor": "white",
           "landcolor": "#E5ECF6",
           "showlakes": true,
           "showland": true,
           "subunitcolor": "white"
          },
          "hoverlabel": {
           "align": "left"
          },
          "hovermode": "closest",
          "mapbox": {
           "style": "light"
          },
          "paper_bgcolor": "white",
          "plot_bgcolor": "#E5ECF6",
          "polar": {
           "angularaxis": {
            "gridcolor": "white",
            "linecolor": "white",
            "ticks": ""
           },
           "bgcolor": "#E5ECF6",
           "radialaxis": {
            "gridcolor": "white",
            "linecolor": "white",
            "ticks": ""
           }
          },
          "scene": {
           "xaxis": {
            "backgroundcolor": "#E5ECF6",
            "gridcolor": "white",
            "gridwidth": 2,
            "linecolor": "white",
            "showbackground": true,
            "ticks": "",
            "zerolinecolor": "white"
           },
           "yaxis": {
            "backgroundcolor": "#E5ECF6",
            "gridcolor": "white",
            "gridwidth": 2,
            "linecolor": "white",
            "showbackground": true,
            "ticks": "",
            "zerolinecolor": "white"
           },
           "zaxis": {
            "backgroundcolor": "#E5ECF6",
            "gridcolor": "white",
            "gridwidth": 2,
            "linecolor": "white",
            "showbackground": true,
            "ticks": "",
            "zerolinecolor": "white"
           }
          },
          "shapedefaults": {
           "line": {
            "color": "#2a3f5f"
           }
          },
          "ternary": {
           "aaxis": {
            "gridcolor": "white",
            "linecolor": "white",
            "ticks": ""
           },
           "baxis": {
            "gridcolor": "white",
            "linecolor": "white",
            "ticks": ""
           },
           "bgcolor": "#E5ECF6",
           "caxis": {
            "gridcolor": "white",
            "linecolor": "white",
            "ticks": ""
           }
          },
          "title": {
           "x": 0.05
          },
          "xaxis": {
           "automargin": true,
           "gridcolor": "white",
           "linecolor": "white",
           "ticks": "",
           "title": {
            "standoff": 15
           },
           "zerolinecolor": "white",
           "zerolinewidth": 2
          },
          "yaxis": {
           "automargin": true,
           "gridcolor": "white",
           "linecolor": "white",
           "ticks": "",
           "title": {
            "standoff": 15
           },
           "zerolinecolor": "white",
           "zerolinewidth": 2
          }
         }
        },
        "title": {
         "text": "3D Scatter Plot of Annealing Time vs Temperature vs Efficiency"
        }
       }
      }
     },
     "metadata": {},
     "output_type": "display_data"
    }
   ],
   "source": [
    "import plotly.graph_objects as go\n",
    "\n",
    "hover_text = []\n",
    "for index, row in df_clean.iterrows():\n",
    "  # Format the chemical formula with proper subscripts\n",
    "  composition = row['data.perovskite.composition_long_form']\n",
    "  # Replace numbers with HTML subscript format\n",
    "  formatted_composition = ''\n",
    "  i = 0\n",
    "  while i < len(composition):\n",
    "    if i < len(composition)-1 and composition[i].isalpha() and composition[i+1].isdigit():\n",
    "      # Get the element symbol\n",
    "      element = composition[i]\n",
    "      # Move to the first digit\n",
    "      i += 1\n",
    "      # Collect all digits and decimals for the subscript\n",
    "      num_str = ''\n",
    "      while i < len(composition) and (composition[i].isdigit() or composition[i] == '.'):\n",
    "        num_str += composition[i]\n",
    "        i += 1\n",
    "      # Add the element with subscripted number\n",
    "      formatted_composition += element + '<sub>' + num_str + '</sub>'\n",
    "    else:\n",
    "      formatted_composition += composition[i]\n",
    "      i += 1\n",
    "  \n",
    "  hover_text.append(\n",
    "    f\"<b>Composition:</b> {formatted_composition}<br>\" +\n",
    "    f\"<b>Efficiency:</b> {row['results.properties.optoelectronic.solar_cell.efficiency']:.2f}%<br>\" +\n",
    "    f\"<b>Annealing Temp:</b> {row['data.perovskite_deposition.thermal_annealing_temperature']}°C<br>\" + \n",
    "    f\"<b>Annealing Time:</b> {row['data.perovskite_deposition.thermal_annealing_time']} hr<br>\" +\n",
    "    f\"<b>Solvents:</b> {row['data.perovskite_deposition.solvents']}<br>\" +\n",
    "    f\"<b>Solvent Ratios:</b> {row['data.perovskite_deposition.solvents_mixing_ratios']}\"\n",
    "  )\n",
    "\n",
    "fig = go.Figure(data=[go.Scatter3d(\n",
    "  x=df_clean['data.perovskite_deposition.thermal_annealing_time'],\n",
    "  y=df_clean['data.perovskite_deposition.thermal_annealing_temperature'],\n",
    "  z=df_clean['results.properties.optoelectronic.solar_cell.efficiency'],\n",
    "  mode='markers',\n",
    "  marker=dict(\n",
    "    size=5,\n",
    "    opacity=0.8,\n",
    "    color=df_clean['results.properties.optoelectronic.solar_cell.efficiency'],\n",
    "    colorscale='Viridis',\n",
    "    colorbar=dict(title='Efficiency (%)')\n",
    "  ),\n",
    "  text=hover_text,\n",
    "  hoverinfo='text'\n",
    ")])\n",
    "\n",
    "fig.update_layout(\n",
    "  scene=dict(\n",
    "    xaxis_title='Annealing Time (log scale)',\n",
    "    yaxis_title='Annealing Temperature (°C)',\n",
    "    zaxis_title='Efficiency (%)',\n",
    "    xaxis=dict(type=\"log\")\n",
    "  ),\n",
    "  title='3D Scatter Plot of Annealing Time vs Temperature vs Efficiency'\n",
    ")\n",
    "\n",
    "fig.show()"
   ]
  }
 ],
 "metadata": {
  "kernelspec": {
   "display_name": ".venv",
   "language": "python",
   "name": "python3"
  },
  "language_info": {
   "codemirror_mode": {
    "name": "ipython",
    "version": 3
   },
   "file_extension": ".py",
   "mimetype": "text/x-python",
   "name": "python",
   "nbconvert_exporter": "python",
   "pygments_lexer": "ipython3",
   "version": "3.11.3"
  }
 },
 "nbformat": 4,
 "nbformat_minor": 2
}
