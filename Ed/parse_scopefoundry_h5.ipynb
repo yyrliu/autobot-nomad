{
 "cells": [
  {
   "cell_type": "code",
   "execution_count": 40,
   "metadata": {},
   "outputs": [],
   "source": [
    "import h5py\n",
    "import yaml\n",
    "from nomad.metainfo import Quantity, SubSection\n",
    "from nomad.datamodel import Schema\n",
    "from nomad.metainfo import SchemaPackage\n",
    "from nomad.datamodel import EntryArchive\n",
    "from nomad.datamodel import ArchiveSection\n",
    "from nomad.datamodel.hdf5 import HDF5Reference\n",
    "\n",
    "import numpy as np"
   ]
  },
  {
   "cell_type": "code",
   "execution_count": null,
   "metadata": {},
   "outputs": [],
   "source": [
    "class ScopeFoundryMeasurementData(ArchiveSection):\n",
    "    name = Quantity(type=str)\n",
    "    data = Quantity(type=HDF5Reference)\n",
    "\n",
    "class SFLoggedQuantity(Schema):\n",
    "    name = Quantity(type=str)\n",
    "    value = Quantity(type=str)\n",
    "    unit = Quantity(type=str)\n",
    "\n",
    "class ScopeFoundryHW(Schema):\n",
    "    name = Quantity(type=str)\n",
    "    settings = SubSection(section=SFLoggedQuantity, repeats=True, description='list of configuration for hardware')\n",
    "\n",
    "class ScopeFoundryMeasurement(Schema):\n",
    "    name = Quantity(type=str)\n",
    "    settings = SubSection(section=SFLoggedQuantity, repeats=True, description='list of configuration for measurement')\n",
    "    datasets = SubSection(section=ScopeFoundryMeasurementData, repeats=True, description='H5 Datasets collected during measurement')\n",
    "\n",
    "class ScopeFoundryH5(Schema):\n",
    "    h5_file = Quantity(\n",
    "        type=str,\n",
    "        description='HDF5 file',\n",
    "        a_eln={\n",
    "            \"component\": \"FileEditQuantity\",\n",
    "        },\n",
    "    )\n",
    "\n",
    "    app_name = Quantity(type=str, a_eln={'overview':True}, a_display={'visible': True})\n",
    "    app_settings = SubSection(section=SFLoggedQuantity, repeats=True, description='list of configuration for app')\n",
    "    hardware = SubSection(section=ScopeFoundryHW, repeats=True, description='Hardware Components', , a_display={'visible': True})\n",
    "    measurement = SubSection(section=ScopeFoundryMeasurement, repeats=True, description='Measurements (usually only one per h5)',a_eln={'overview':True}, , a_display={'visible': True})\n"
   ]
  },
  {
   "cell_type": "code",
   "execution_count": 72,
   "metadata": {},
   "outputs": [
    {
     "name": "stdout",
     "output_type": "stream",
     "text": [
      "definitions:\n",
      "  name: ScopeFoundry\n",
      "  section_definitions:\n",
      "  - name: ScopeFoundryH5\n",
      "    base_sections:\n",
      "    - nomad.datamodel.data.EntryData\n",
      "    quantities:\n",
      "    - m_annotations:\n",
      "        eln:\n",
      "        - component: FileEditQuantity\n",
      "      name: h5_file\n",
      "      description: HDF5 file\n",
      "      type:\n",
      "        type_kind: python\n",
      "        type_data: str\n",
      "    - name: app_name\n",
      "      type:\n",
      "        type_kind: python\n",
      "        type_data: str\n",
      "    sub_sections:\n",
      "    - name: app_settings\n",
      "      description: list of configuration for app\n",
      "      sub_section: /definitions/section_definitions/3\n",
      "      repeats: true\n",
      "    - name: hardware\n",
      "      description: Hardware Components\n",
      "      sub_section: /definitions/section_definitions/1\n",
      "      repeats: true\n",
      "    - m_annotations:\n",
      "        eln:\n",
      "        - overview: true\n",
      "      name: measurement\n",
      "      description: Measurements (usually only one per h5)\n",
      "      sub_section: /definitions/section_definitions/2\n",
      "      repeats: true\n",
      "  - name: ScopeFoundryHW\n",
      "    base_sections:\n",
      "    - nomad.datamodel.data.EntryData\n",
      "    quantities:\n",
      "    - name: name\n",
      "      type:\n",
      "        type_kind: python\n",
      "        type_data: str\n",
      "    sub_sections:\n",
      "    - name: settings\n",
      "      description: list of configuration for hardware\n",
      "      sub_section: /definitions/section_definitions/3\n",
      "      repeats: true\n",
      "  - name: ScopeFoundryMeasurement\n",
      "    base_sections:\n",
      "    - nomad.datamodel.data.EntryData\n",
      "    quantities:\n",
      "    - name: name\n",
      "      type:\n",
      "        type_kind: python\n",
      "        type_data: str\n",
      "    sub_sections:\n",
      "    - name: settings\n",
      "      description: list of configuration for measurement\n",
      "      sub_section: /definitions/section_definitions/3\n",
      "      repeats: true\n",
      "    - name: datasets\n",
      "      description: H5 Datasets collected during measurement\n",
      "      sub_section: /definitions/section_definitions/4\n",
      "      repeats: true\n",
      "  - name: SFLoggedQuantity\n",
      "    base_sections:\n",
      "    - nomad.datamodel.data.EntryData\n",
      "    quantities:\n",
      "    - name: name\n",
      "      type:\n",
      "        type_kind: python\n",
      "        type_data: str\n",
      "    - name: value\n",
      "      type:\n",
      "        type_kind: python\n",
      "        type_data: str\n",
      "    - name: unit\n",
      "      type:\n",
      "        type_kind: python\n",
      "        type_data: str\n",
      "  - name: ScopeFoundryMeasurementData\n",
      "    base_sections:\n",
      "    - nomad.datamodel.data.ArchiveSection\n",
      "    quantities:\n",
      "    - name: name\n",
      "      type:\n",
      "        type_kind: python\n",
      "        type_data: str\n",
      "    - name: data\n",
      "      type:\n",
      "        type_kind: custom\n",
      "        type_data: nomad.datamodel.hdf5.HDF5Reference\n",
      "\n"
     ]
    }
   ],
   "source": [
    "def create_schema_package():\n",
    "    return EntryArchive(\n",
    "        definitions=SchemaPackage(\n",
    "            name='ScopeFoundry',\n",
    "            sections=[\n",
    "                ScopeFoundryH5.m_def,\n",
    "                ScopeFoundryHW.m_def,\n",
    "                ScopeFoundryMeasurement.m_def,\n",
    "                SFLoggedQuantity.m_def,\n",
    "                ScopeFoundryMeasurementData.m_def\n",
    "            ]\n",
    "        )\n",
    "    )\n",
    "def save_schema_package_to_yaml():\n",
    "    with open('scopefoundry_schema_package.archive.yaml', 'wt') as f:\n",
    "        f.write(yaml.dump(create_schema_package().m_to_dict(with_out_meta=True), indent=2))\n",
    "\n",
    "save_schema_package_to_yaml()\n",
    "print(yaml.dump(create_schema_package().m_to_dict(with_out_meta=True), indent=2, sort_keys=False))"
   ]
  },
  {
   "cell_type": "code",
   "execution_count": 73,
   "metadata": {},
   "outputs": [
    {
     "data": {
      "application/json": {
       "data": {
        "app_name": "SpinBot",
        "app_settings": [
         {
          "name": "data_fname_format",
          "value": "{timestamp:%y%m%d_%H%M%S}_{measurement.name}.{ext}"
         },
         {
          "name": "sample",
          "value": "0sybgat4t5zas000r2txy6msjg"
         },
         {
          "name": "save_dir",
          "value": "C:/Users/lab/Documents/foundry_scope/SpinBot/Ansuman/20250307/Batch 160"
         }
        ],
        "h5_file": "test1.h5",
        "hardware": [
         {
          "name": "cbox_stage",
          "settings": [
           {
            "name": "center_CAM_x",
            "unit": "um",
            "value": "10000"
           },
           {
            "name": "center_CAM_y",
            "unit": "um",
            "value": "10000"
           },
           {
            "name": "center_PL_x",
            "unit": "um",
            "value": "88000"
           },
           {
            "name": "center_PL_y",
            "unit": "um",
            "value": "20000"
           },
           {
            "name": "center_WL_x",
            "unit": "um",
            "value": "70000"
           },
           {
            "name": "center_WL_y",
            "unit": "um",
            "value": "2000"
           },
           {
            "name": "connected",
            "value": "True"
           },
           {
            "name": "debug_mode",
            "value": "False"
           },
           {
            "name": "insert_y",
            "unit": "um",
            "value": "20000"
           },
           {
            "name": "is_at_load",
            "value": "True"
           },
           {
            "name": "is_inserted",
            "value": "False"
           },
           {
            "name": "load_x",
            "unit": "um",
            "value": "85000"
           },
           {
            "name": "load_y",
            "unit": "um",
            "value": "100000"
           },
           {
            "name": "x_max",
            "unit": "um",
            "value": "93000"
           },
           {
            "name": "x_min",
            "unit": "um",
            "value": "0"
           },
           {
            "name": "x_on_target",
            "value": "True"
           },
           {
            "name": "x_position",
            "unit": "um",
            "value": "84968"
           },
           {
            "name": "x_target",
            "unit": "um",
            "value": "85000"
           },
           {
            "name": "y_max",
            "unit": "um",
            "value": "20500"
           },
           {
            "name": "y_min",
            "unit": "um",
            "value": "0"
           },
           {
            "name": "y_on_target",
            "value": "True"
           },
           {
            "name": "y_position",
            "unit": "um",
            "value": "100000"
           },
           {
            "name": "y_target",
            "unit": "um",
            "value": "100000"
           }
          ]
         },
         {
          "name": "enviromon",
          "settings": [
           {
            "name": "connected",
            "value": "False"
           },
           {
            "name": "debug_mode",
            "value": "False"
           },
           {
            "name": "humidity",
            "unit": "%",
            "value": "0.0"
           },
           {
            "name": "log_enable",
            "value": "True"
           },
           {
            "name": "log_file",
            "value": "enviromon_log_{date}.txt"
           },
           {
            "name": "log_interval",
            "unit": "s",
            "value": "5.0"
           },
           {
            "name": "port",
            "value": "COM5"
           },
           {
            "name": "temperature",
            "unit": "C",
            "value": "0.0"
           }
          ]
         },
         {
          "name": "mf_crucible_spinbot",
          "settings": [
           {
            "name": "batch_id",
            "value": "ahalder_Batch 160_0sybgaqhk9yz5000gqv9r0p4x8"
           },
           {
            "name": "comments",
            "value": "add any desired comments here (optional)"
           },
           {
            "name": "connected",
            "value": "True"
           },
           {
            "name": "debug_mode",
            "value": "False"
           },
           {
            "name": "email",
            "value": "ahalder@lbl.gov"
           },
           {
            "name": "orcid",
            "value": "0000-0002-5223-2861"
           },
           {
            "name": "proposal",
            "value": "MFUSER_ahalder (InternalResearch)"
           },
           {
            "name": "session_name",
            "value": "Batch 160"
           },
           {
            "name": "tags",
            "value": "list,tags,separated,by,commas (optional)"
           },
           {
            "name": "user_name",
            "value": "Ansuman Halder"
           }
          ]
         },
         {
          "name": "pl_spec",
          "settings": [
           {
            "name": "connected",
            "value": "True"
           },
           {
            "name": "debug_mode",
            "value": "False"
           },
           {
            "name": "int_time",
            "unit": "s",
            "value": "1.0"
           },
           {
            "name": "serial_num",
            "value": "FLMS14212"
           }
          ]
         },
         {
          "name": "spinbot_comm",
          "settings": [
           {
            "name": "IsSampleLoaded",
            "value": "False"
           },
           {
            "name": "connected",
            "value": "False"
           },
           {
            "name": "debug_mode",
            "value": "False"
           },
           {
            "name": "host",
            "value": "localhost"
           }
          ]
         },
         {
          "name": "tec_8way_plc",
          "settings": [
           {
            "name": "DataXfer_state",
            "value": "0"
           },
           {
            "name": "HeaterA_is_cooling",
            "value": "False"
           },
           {
            "name": "HeaterA_is_heating",
            "value": "False"
           },
           {
            "name": "HeaterA_pid_output",
            "value": "0"
           },
           {
            "name": "HeaterA_pid_output_mag",
            "value": "0"
           },
           {
            "name": "HeaterA_program_counter",
            "value": "0"
           },
           {
            "name": "HeaterA_program_halt",
            "value": "False"
           },
           {
            "name": "HeaterA_program_len",
            "value": "0"
           },
           {
            "name": "HeaterA_program_run",
            "value": "False"
           },
           {
            "name": "HeaterA_pwm_cooler",
            "value": "0"
           },
           {
            "name": "HeaterA_pwm_heater",
            "value": "0"
           },
           {
            "name": "HeaterA_set_point",
            "unit": "C",
            "value": "30.0"
           },
           {
            "name": "HeaterA_temperature",
            "unit": "C",
            "value": "0.0"
           },
           {
            "name": "HeaterB_is_cooling",
            "value": "False"
           },
           {
            "name": "HeaterB_is_heating",
            "value": "False"
           },
           {
            "name": "HeaterB_pid_output",
            "value": "0"
           },
           {
            "name": "HeaterB_pid_output_mag",
            "value": "0"
           },
           {
            "name": "HeaterB_program_counter",
            "value": "0"
           },
           {
            "name": "HeaterB_program_halt",
            "value": "False"
           },
           {
            "name": "HeaterB_program_len",
            "value": "0"
           },
           {
            "name": "HeaterB_program_run",
            "value": "False"
           },
           {
            "name": "HeaterB_pwm_cooler",
            "value": "0"
           },
           {
            "name": "HeaterB_pwm_heater",
            "value": "0"
           },
           {
            "name": "HeaterB_set_point",
            "unit": "C",
            "value": "30.0"
           },
           {
            "name": "HeaterB_temperature",
            "unit": "C",
            "value": "0.0"
           },
           {
            "name": "HeaterC_is_cooling",
            "value": "False"
           },
           {
            "name": "HeaterC_is_heating",
            "value": "False"
           },
           {
            "name": "HeaterC_pid_output",
            "value": "0"
           },
           {
            "name": "HeaterC_pid_output_mag",
            "value": "0"
           },
           {
            "name": "HeaterC_program_counter",
            "value": "0"
           },
           {
            "name": "HeaterC_program_halt",
            "value": "False"
           },
           {
            "name": "HeaterC_program_len",
            "value": "0"
           },
           {
            "name": "HeaterC_program_run",
            "value": "False"
           },
           {
            "name": "HeaterC_pwm_cooler",
            "value": "0"
           },
           {
            "name": "HeaterC_pwm_cooler_freq",
            "value": "0"
           },
           {
            "name": "HeaterC_pwm_heater",
            "value": "0"
           },
           {
            "name": "HeaterC_pwm_heater_freq",
            "value": "0"
           },
           {
            "name": "HeaterC_set_point",
            "unit": "C",
            "value": "30.0"
           },
           {
            "name": "HeaterC_temperature",
            "unit": "C",
            "value": "0.0"
           },
           {
            "name": "HeaterD_is_cooling",
            "value": "False"
           },
           {
            "name": "HeaterD_is_heating",
            "value": "False"
           },
           {
            "name": "HeaterD_pid_output",
            "value": "0"
           },
           {
            "name": "HeaterD_pid_output_mag",
            "value": "0"
           },
           {
            "name": "HeaterD_program_counter",
            "value": "0"
           },
           {
            "name": "HeaterD_program_halt",
            "value": "False"
           },
           {
            "name": "HeaterD_program_len",
            "value": "0"
           },
           {
            "name": "HeaterD_program_run",
            "value": "False"
           },
           {
            "name": "HeaterD_pwm_cooler",
            "value": "0"
           },
           {
            "name": "HeaterD_pwm_cooler_freq",
            "value": "0"
           },
           {
            "name": "HeaterD_pwm_heater",
            "value": "0"
           },
           {
            "name": "HeaterD_pwm_heater_freq",
            "value": "0"
           },
           {
            "name": "HeaterD_set_point",
            "unit": "C",
            "value": "30.0"
           },
           {
            "name": "HeaterD_temperature",
            "unit": "C",
            "value": "0.0"
           },
           {
            "name": "HeaterE_is_cooling",
            "value": "False"
           },
           {
            "name": "HeaterE_is_heating",
            "value": "False"
           },
           {
            "name": "HeaterE_pid_output",
            "value": "0"
           },
           {
            "name": "HeaterE_pid_output_mag",
            "value": "0"
           },
           {
            "name": "HeaterE_program_counter",
            "value": "0"
           },
           {
            "name": "HeaterE_program_halt",
            "value": "False"
           },
           {
            "name": "HeaterE_program_len",
            "value": "0"
           },
           {
            "name": "HeaterE_program_run",
            "value": "False"
           },
           {
            "name": "HeaterE_pwm_cooler",
            "value": "0"
           },
           {
            "name": "HeaterE_pwm_cooler_freq",
            "value": "0"
           },
           {
            "name": "HeaterE_pwm_heater",
            "value": "0"
           },
           {
            "name": "HeaterE_pwm_heater_freq",
            "value": "0"
           },
           {
            "name": "HeaterE_set_point",
            "unit": "C",
            "value": "30.0"
           },
           {
            "name": "HeaterE_temperature",
            "unit": "C",
            "value": "0.0"
           },
           {
            "name": "HeaterF_is_cooling",
            "value": "False"
           },
           {
            "name": "HeaterF_is_heating",
            "value": "False"
           },
           {
            "name": "HeaterF_pid_output",
            "value": "0"
           },
           {
            "name": "HeaterF_pid_output_mag",
            "value": "0"
           },
           {
            "name": "HeaterF_program_counter",
            "value": "0"
           },
           {
            "name": "HeaterF_program_halt",
            "value": "False"
           },
           {
            "name": "HeaterF_program_len",
            "value": "0"
           },
           {
            "name": "HeaterF_program_run",
            "value": "False"
           },
           {
            "name": "HeaterF_pwm_cooler",
            "value": "0"
           },
           {
            "name": "HeaterF_pwm_cooler_freq",
            "value": "0"
           },
           {
            "name": "HeaterF_pwm_heater",
            "value": "0"
           },
           {
            "name": "HeaterF_pwm_heater_freq",
            "value": "0"
           },
           {
            "name": "HeaterF_set_point",
            "unit": "C",
            "value": "30.0"
           },
           {
            "name": "HeaterF_temperature",
            "unit": "C",
            "value": "0.0"
           },
           {
            "name": "HeaterG_is_cooling",
            "value": "False"
           },
           {
            "name": "HeaterG_is_heating",
            "value": "False"
           },
           {
            "name": "HeaterG_pid_output",
            "value": "0"
           },
           {
            "name": "HeaterG_pid_output_mag",
            "value": "0"
           },
           {
            "name": "HeaterG_program_counter",
            "value": "0"
           },
           {
            "name": "HeaterG_program_halt",
            "value": "False"
           },
           {
            "name": "HeaterG_program_len",
            "value": "0"
           },
           {
            "name": "HeaterG_program_run",
            "value": "False"
           },
           {
            "name": "HeaterG_pwm_cooler",
            "value": "0"
           },
           {
            "name": "HeaterG_pwm_cooler_freq",
            "value": "0"
           },
           {
            "name": "HeaterG_pwm_heater",
            "value": "0"
           },
           {
            "name": "HeaterG_pwm_heater_freq",
            "value": "0"
           },
           {
            "name": "HeaterG_set_point",
            "unit": "C",
            "value": "30.0"
           },
           {
            "name": "HeaterG_temperature",
            "unit": "C",
            "value": "0.0"
           },
           {
            "name": "HeaterH_is_cooling",
            "value": "False"
           },
           {
            "name": "HeaterH_is_heating",
            "value": "False"
           },
           {
            "name": "HeaterH_pid_output",
            "value": "0"
           },
           {
            "name": "HeaterH_pid_output_mag",
            "value": "0"
           },
           {
            "name": "HeaterH_program_counter",
            "value": "0"
           },
           {
            "name": "HeaterH_program_halt",
            "value": "False"
           },
           {
            "name": "HeaterH_program_len",
            "value": "0"
           },
           {
            "name": "HeaterH_program_run",
            "value": "False"
           },
           {
            "name": "HeaterH_pwm_cooler",
            "value": "0"
           },
           {
            "name": "HeaterH_pwm_cooler_freq",
            "value": "0"
           },
           {
            "name": "HeaterH_pwm_heater",
            "value": "0"
           },
           {
            "name": "HeaterH_pwm_heater_freq",
            "value": "0"
           },
           {
            "name": "HeaterH_set_point",
            "unit": "C",
            "value": "30.0"
           },
           {
            "name": "HeaterH_temperature",
            "unit": "C",
            "value": "0.0"
           },
           {
            "name": "connected",
            "value": "False"
           },
           {
            "name": "debug_mode",
            "value": "False"
           },
           {
            "name": "ip_address",
            "value": "192.168.27.152"
           }
          ]
         },
         {
          "name": "wl_spec",
          "settings": [
           {
            "name": "connected",
            "value": "True"
           },
           {
            "name": "debug_mode",
            "value": "False"
           },
           {
            "name": "int_time",
            "unit": "s",
            "value": "0.001"
           },
           {
            "name": "serial_num",
            "value": "FLMS12833"
           }
          ]
         },
         {
          "name": "x_under_stage",
          "settings": [
           {
            "name": "connected",
            "value": "True"
           },
           {
            "name": "debug_mode",
            "value": "False"
           },
           {
            "name": "fault",
            "value": "False"
           },
           {
            "name": "feed_constant",
            "unit": "um/revs",
            "value": "12500"
           },
           {
            "name": "feed_revs",
            "value": "1"
           },
           {
            "name": "go_on_new_target",
            "value": "True"
           },
           {
            "name": "home_acc",
            "unit": "um/s2",
            "value": "100"
           },
           {
            "name": "home_velocity",
            "unit": "um/s",
            "value": "500"
           },
           {
            "name": "home_velocity2",
            "unit": "um/s",
            "value": "100"
           },
           {
            "name": "initialize_on_connect",
            "value": "True"
           },
           {
            "name": "internal_limit_active",
            "value": "False"
           },
           {
            "name": "ip_address",
            "value": "192.168.27.40"
           },
           {
            "name": "operating_mode",
            "value": "1"
           },
           {
            "name": "operation_enabled",
            "value": "True"
           },
           {
            "name": "position",
            "unit": "um",
            "value": "84968"
           },
           {
            "name": "profile_acc",
            "unit": "um/s2",
            "value": "2000"
           },
           {
            "name": "profile_velocity",
            "unit": "um/s",
            "value": "8000"
           },
           {
            "name": "quick_stop",
            "value": "True"
           },
           {
            "name": "ready_to_sw_on",
            "value": "True"
           },
           {
            "name": "remote_enable",
            "value": "True"
           },
           {
            "name": "switch_on_disabled",
            "value": "False"
           },
           {
            "name": "switched_on",
            "value": "True"
           },
           {
            "name": "target_pos",
            "unit": "um",
            "value": "85000"
           },
           {
            "name": "target_reached",
            "value": "True"
           },
           {
            "name": "voltage_enable",
            "value": "False"
           },
           {
            "name": "warning",
            "value": "False"
           }
          ]
         },
         {
          "name": "y_over_stage",
          "settings": [
           {
            "name": "connected",
            "value": "True"
           },
           {
            "name": "debug_mode",
            "value": "False"
           },
           {
            "name": "fault",
            "value": "False"
           },
           {
            "name": "feed_constant",
            "unit": "um/revs",
            "value": "2500"
           },
           {
            "name": "feed_revs",
            "value": "1"
           },
           {
            "name": "go_on_new_target",
            "value": "True"
           },
           {
            "name": "home_acc",
            "unit": "um/s2",
            "value": "500"
           },
           {
            "name": "home_velocity",
            "unit": "um/s",
            "value": "2000"
           },
           {
            "name": "home_velocity2",
            "unit": "um/s",
            "value": "500"
           },
           {
            "name": "initialize_on_connect",
            "value": "True"
           },
           {
            "name": "internal_limit_active",
            "value": "False"
           },
           {
            "name": "ip_address",
            "value": "192.168.27.41"
           },
           {
            "name": "operating_mode",
            "value": "1"
           },
           {
            "name": "operation_enabled",
            "value": "True"
           },
           {
            "name": "position",
            "unit": "um",
            "value": "100000"
           },
           {
            "name": "profile_acc",
            "unit": "um/s2",
            "value": "3000"
           },
           {
            "name": "profile_velocity",
            "unit": "um/s",
            "value": "12000"
           },
           {
            "name": "quick_stop",
            "value": "True"
           },
           {
            "name": "ready_to_sw_on",
            "value": "True"
           },
           {
            "name": "remote_enable",
            "value": "True"
           },
           {
            "name": "switch_on_disabled",
            "value": "False"
           },
           {
            "name": "switched_on",
            "value": "True"
           },
           {
            "name": "target_pos",
            "unit": "um",
            "value": "100000"
           },
           {
            "name": "target_reached",
            "value": "True"
           },
           {
            "name": "voltage_enable",
            "value": "False"
           },
           {
            "name": "warning",
            "value": "False"
           }
          ]
         },
         {
          "name": "zwo_camera",
          "settings": [
           {
            "name": "AntiDewHeater",
            "value": "False"
           },
           {
            "name": "AutoExpMaxExpMS",
            "unit": "ms",
            "value": "29996"
           },
           {
            "name": "AutoExpMaxGain",
            "value": "285"
           },
           {
            "name": "AutoExpTargetBrightness",
            "value": "100"
           },
           {
            "name": "BandWidth",
            "unit": "%",
            "value": "80"
           },
           {
            "name": "BandWidth_auto",
            "value": "True"
           },
           {
            "name": "CoolPowerPerc",
            "unit": "%",
            "value": "0"
           },
           {
            "name": "CoolerOn",
            "value": "False"
           },
           {
            "name": "Exposure",
            "unit": "us",
            "value": "4000000"
           },
           {
            "name": "Exposure_auto",
            "value": "False"
           },
           {
            "name": "Flip",
            "value": "1"
           },
           {
            "name": "GPS",
            "value": "False"
           },
           {
            "name": "Gain",
            "value": "285"
           },
           {
            "name": "Gain_auto",
            "value": "False"
           },
           {
            "name": "HardwareBin",
            "value": "False"
           },
           {
            "name": "HighSpeedMode",
            "value": "False"
           },
           {
            "name": "MonoBin",
            "value": "False"
           },
           {
            "name": "Offset",
            "value": "4"
           },
           {
            "name": "TargetTemp",
            "unit": "C",
            "value": "0"
           },
           {
            "name": "Temperature",
            "unit": "C",
            "value": "235"
           },
           {
            "name": "WB_B",
            "unit": "%",
            "value": "95"
           },
           {
            "name": "WB_B_auto",
            "value": "False"
           },
           {
            "name": "WB_R",
            "unit": "%",
            "value": "50"
           },
           {
            "name": "WB_R_auto",
            "value": "False"
           },
           {
            "name": "cam_id",
            "value": "0"
           },
           {
            "name": "connected",
            "value": "True"
           },
           {
            "name": "debug_mode",
            "value": "False"
           },
           {
            "name": "img_type",
            "value": "RGB24"
           },
           {
            "name": "live_update",
            "value": "True"
           },
           {
            "name": "live_update_period",
            "unit": "ms",
            "value": "100"
           },
           {
            "name": "name",
            "value": "ZWO ASI294MC"
           }
          ]
         }
        ],
        "m_def": "../upload/raw/scopefoundry_schema_package.archive.yaml#/definitions/section_definitions/ScopeFoundryH5",
        "measurement": [
         {
          "datasets": [
           {
            "data": "test1.h5#/measurement/spec_run/adj_photo",
            "name": "adj_photo"
           },
           {
            "data": "test1.h5#/measurement/spec_run/adj_photo_exposure",
            "name": "adj_photo_exposure"
           },
           {
            "data": "test1.h5#/measurement/spec_run/dark_photo",
            "name": "dark_photo"
           },
           {
            "data": "test1.h5#/measurement/spec_run/photo",
            "name": "photo"
           },
           {
            "data": "test1.h5#/measurement/spec_run/pl_dark_int_time",
            "name": "pl_dark_int_time"
           },
           {
            "data": "test1.h5#/measurement/spec_run/pl_dark_spectrum",
            "name": "pl_dark_spectrum"
           },
           {
            "data": "test1.h5#/measurement/spec_run/pl_ref_int_time",
            "name": "pl_ref_int_time"
           },
           {
            "data": "test1.h5#/measurement/spec_run/pl_ref_spectrum",
            "name": "pl_ref_spectrum"
           },
           {
            "data": "test1.h5#/measurement/spec_run/pl_spectra",
            "name": "pl_spectra"
           },
           {
            "data": "test1.h5#/measurement/spec_run/pl_spectra_corrected",
            "name": "pl_spectra_corrected"
           },
           {
            "data": "test1.h5#/measurement/spec_run/pl_spectra_energy_transform",
            "name": "pl_spectra_energy_transform"
           },
           {
            "data": "test1.h5#/measurement/spec_run/pl_spectra_int_times",
            "name": "pl_spectra_int_times"
           },
           {
            "data": "test1.h5#/measurement/spec_run/pl_wls",
            "name": "pl_wls"
           },
           {
            "data": "test1.h5#/measurement/spec_run/pl_x_array",
            "name": "pl_x_array"
           },
           {
            "data": "test1.h5#/measurement/spec_run/wl_dark_int_time",
            "name": "wl_dark_int_time"
           },
           {
            "data": "test1.h5#/measurement/spec_run/wl_dark_spectrum",
            "name": "wl_dark_spectrum"
           },
           {
            "data": "test1.h5#/measurement/spec_run/wl_ref_int_time",
            "name": "wl_ref_int_time"
           },
           {
            "data": "test1.h5#/measurement/spec_run/wl_ref_spectrum",
            "name": "wl_ref_spectrum"
           },
           {
            "data": "test1.h5#/measurement/spec_run/wl_spectra",
            "name": "wl_spectra"
           },
           {
            "data": "test1.h5#/measurement/spec_run/wl_spectra_corrected",
            "name": "wl_spectra_corrected"
           },
           {
            "data": "test1.h5#/measurement/spec_run/wl_spectra_energy_transform",
            "name": "wl_spectra_energy_transform"
           },
           {
            "data": "test1.h5#/measurement/spec_run/wl_spectra_int_times",
            "name": "wl_spectra_int_times"
           },
           {
            "data": "test1.h5#/measurement/spec_run/wl_wls",
            "name": "wl_wls"
           },
           {
            "data": "test1.h5#/measurement/spec_run/wl_x_array",
            "name": "wl_x_array"
           }
          ],
          "name": "spec_run",
          "settings": [
           {
            "name": "activation",
            "value": "True"
           },
           {
            "name": "eject_after",
            "value": "True"
           },
           {
            "name": "photo_enable",
            "value": "True"
           },
           {
            "name": "photo_x",
            "unit": "um",
            "value": "2400"
           },
           {
            "name": "photo_y",
            "unit": "um",
            "value": "9750"
           },
           {
            "name": "pl_repeats",
            "value": "3"
           },
           {
            "name": "pl_x_center",
            "unit": "um",
            "value": "87500"
           },
           {
            "name": "pl_x_dark",
            "unit": "um",
            "value": "70000"
           },
           {
            "name": "pl_x_max",
            "unit": "um",
            "value": "91000"
           },
           {
            "name": "pl_x_min",
            "unit": "um",
            "value": "84000"
           },
           {
            "name": "pl_x_num",
            "value": "8"
           },
           {
            "name": "pl_x_ref",
            "unit": "um",
            "value": "30000"
           },
           {
            "name": "pl_x_span",
            "unit": "um",
            "value": "7000"
           },
           {
            "name": "pl_x_step",
            "unit": "um",
            "value": "1000"
           },
           {
            "name": "pl_y",
            "unit": "um",
            "value": "18000"
           },
           {
            "name": "profile",
            "value": "False"
           },
           {
            "name": "progress",
            "unit": "%",
            "value": "50.0"
           },
           {
            "name": "run_state",
            "value": "run_thread_run"
           },
           {
            "name": "sample_position",
            "value": "1"
           },
           {
            "name": "wl_ref_int_time",
            "unit": "s",
            "value": "-1.0"
           },
           {
            "name": "wl_repeats",
            "value": "10"
           },
           {
            "name": "wl_x_center",
            "unit": "um",
            "value": "70500"
           },
           {
            "name": "wl_x_dark",
            "unit": "um",
            "value": "55000"
           },
           {
            "name": "wl_x_max",
            "unit": "um",
            "value": "74000"
           },
           {
            "name": "wl_x_min",
            "unit": "um",
            "value": "67000"
           },
           {
            "name": "wl_x_num",
            "value": "8"
           },
           {
            "name": "wl_x_ref",
            "unit": "um",
            "value": "30000"
           },
           {
            "name": "wl_x_span",
            "unit": "um",
            "value": "7000"
           },
           {
            "name": "wl_x_step",
            "unit": "um",
            "value": "1000"
           },
           {
            "name": "wl_y",
            "unit": "um",
            "value": "5000"
           }
          ]
         }
        ]
       },
       "metadata": {}
      },
      "text/plain": [
       "<IPython.core.display.JSON object>"
      ]
     },
     "execution_count": 73,
     "metadata": {
      "application/json": {
       "expanded": false,
       "indent": 4,
       "root": "root"
      }
     },
     "output_type": "execute_result"
    }
   ],
   "source": [
    "import os\n",
    "\n",
    "def settingsH5_to_NomadLQlist(sH5):\n",
    "    lqs = []\n",
    "    for k,v in sH5.attrs.items():\n",
    "        lq = SFLoggedQuantity(name=k, value=str(v))\n",
    "        if k in sH5['units'].attrs:\n",
    "            lq.unit = sH5['units'].attrs[k]\n",
    "        lqs.append(lq)\n",
    "    return lqs\n",
    "\n",
    "def parse(mainfile, archive, logger):\n",
    "    with h5py.File(mainfile,'r') as H:\n",
    "        h = archive.data = ScopeFoundryH5(\n",
    "            h5_file = mainfile,\n",
    "            app_name = H['app'].attrs['name']\n",
    "        )\n",
    "        h.app_settings = settingsH5_to_NomadLQlist(H['app/settings'])\n",
    "        for HW in H['hardware'].values():\n",
    "            nHW = ScopeFoundryHW(name=HW.attrs['name'])\n",
    "            nHW.settings = settingsH5_to_NomadLQlist(HW['settings'])\n",
    "            h.hardware.append(nHW)\n",
    "        for M in H['measurement'].values():\n",
    "            nM = ScopeFoundryMeasurement(name=M.attrs['name'])\n",
    "            h.measurement.append(nM)\n",
    "            nM.settings = settingsH5_to_NomadLQlist(M['settings'])\n",
    "            for name,hData in M.items():\n",
    "                if not isinstance(hData, h5py.Dataset): continue\n",
    "                nData = ScopeFoundryMeasurementData(name = name)\n",
    "                nM.datasets.append(nData)\n",
    "                nData.data = f'{mainfile}#{hData.name}'\n",
    "                \n",
    "            \n",
    "\n",
    "from nomad.datamodel import EntryMetadata\n",
    "\n",
    "archive = EntryArchive(metadata=EntryMetadata())\n",
    "mainfile = 'test1.h5'\n",
    "parse(mainfile, archive, None)\n",
    "\n",
    "json_data = archive.m_to_dict()\n",
    "\n",
    "# Here we replace the schema reference\n",
    "json_data['data']['m_def'] = \\\n",
    "    '../upload/raw/scopefoundry_schema_package.archive.yaml#/definitions/section_definitions/ScopeFoundryH5'\n",
    "\n",
    "from IPython.display import JSON\n",
    "\n",
    "import json\n",
    "# Save the country as a .archive.json\n",
    "with open(f'{mainfile}.archive.json', 'wt') as f:\n",
    "    f.write(json.dumps(json_data, indent=2))\n",
    "\n",
    "JSON(json_data, indent=4)\n"
   ]
  },
  {
   "cell_type": "code",
   "execution_count": null,
   "metadata": {},
   "outputs": [],
   "source": []
  },
  {
   "cell_type": "code",
   "execution_count": null,
   "metadata": {},
   "outputs": [],
   "source": []
  },
  {
   "cell_type": "code",
   "execution_count": null,
   "metadata": {},
   "outputs": [],
   "source": []
  },
  {
   "cell_type": "code",
   "execution_count": null,
   "metadata": {},
   "outputs": [],
   "source": []
  }
 ],
 "metadata": {
  "kernelspec": {
   "display_name": "nomad",
   "language": "python",
   "name": "python3"
  },
  "language_info": {
   "codemirror_mode": {
    "name": "ipython",
    "version": 3
   },
   "file_extension": ".py",
   "mimetype": "text/x-python",
   "name": "python",
   "nbconvert_exporter": "python",
   "pygments_lexer": "ipython3",
   "version": "3.12.9"
  }
 },
 "nbformat": 4,
 "nbformat_minor": 2
}
